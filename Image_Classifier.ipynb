{
  "nbformat": 4,
  "nbformat_minor": 0,
  "metadata": {
    "colab": {
      "provenance": [],
      "gpuType": "T4"
    },
    "kernelspec": {
      "name": "python3",
      "display_name": "Python 3"
    },
    "language_info": {
      "name": "python"
    },
    "accelerator": "GPU"
  },
  "cells": [
    {
      "cell_type": "code",
      "execution_count": 1,
      "metadata": {
        "id": "n14Y1dgqaroV"
      },
      "outputs": [],
      "source": [
        "import numpy as np\n",
        "from keras.models import Sequential"
      ]
    },
    {
      "cell_type": "code",
      "source": [
        "from keras.layers import Conv2D,MaxPool2D,Dense,Dropout,Flatten"
      ],
      "metadata": {
        "id": "yxNWoHPjzJrE"
      },
      "execution_count": 2,
      "outputs": []
    },
    {
      "cell_type": "code",
      "source": [
        "from keras.datasets import cifar10"
      ],
      "metadata": {
        "id": "cl5s6DvwzmQT"
      },
      "execution_count": 3,
      "outputs": []
    },
    {
      "cell_type": "code",
      "source": [
        "(train_images, train_labels), (test_images, test_labels)= cifar10.load_data()"
      ],
      "metadata": {
        "id": "_dCQdpCX1743",
        "colab": {
          "base_uri": "https://localhost:8080/"
        },
        "outputId": "a18e1a4a-757b-4c90-9383-31636d77b81f"
      },
      "execution_count": 4,
      "outputs": [
        {
          "output_type": "stream",
          "name": "stdout",
          "text": [
            "Downloading data from https://www.cs.toronto.edu/~kriz/cifar-10-python.tar.gz\n",
            "170498071/170498071 [==============================] - 13s 0us/step\n"
          ]
        }
      ]
    },
    {
      "cell_type": "code",
      "source": [
        "train_images=train_images/255.0"
      ],
      "metadata": {
        "id": "rlJJH-0i2GLw"
      },
      "execution_count": 5,
      "outputs": []
    },
    {
      "cell_type": "code",
      "source": [
        "test_images=test_images/255.0"
      ],
      "metadata": {
        "id": "84AgfJps2uKt"
      },
      "execution_count": 6,
      "outputs": []
    },
    {
      "cell_type": "code",
      "source": [
        "labels=['airplane', 'automobile', 'bird', 'cat', 'deer','dog', 'frog', 'horse', 'ship', 'truck']"
      ],
      "metadata": {
        "id": "hR-pslno2zdN"
      },
      "execution_count": 7,
      "outputs": []
    },
    {
      "cell_type": "code",
      "source": [
        "def plott(i):\n",
        "  plt.imshow(train_images[i])\n",
        "  plt.title(labels[train_labels1[i]])"
      ],
      "metadata": {
        "id": "Py_Cfscb26cp"
      },
      "execution_count": 8,
      "outputs": []
    },
    {
      "cell_type": "code",
      "source": [
        "import matplotlib.pyplot as plt\n",
        "train_labels1 = np.squeeze(train_labels)\n",
        "\n"
      ],
      "metadata": {
        "id": "ghqhaNRC3a7i"
      },
      "execution_count": 9,
      "outputs": []
    },
    {
      "cell_type": "code",
      "source": [
        "test_labels"
      ],
      "metadata": {
        "colab": {
          "base_uri": "https://localhost:8080/"
        },
        "id": "bH9A8Esx-27U",
        "outputId": "e9be2d96-50d5-48c5-d609-4c46c9bf8c97"
      },
      "execution_count": 10,
      "outputs": [
        {
          "output_type": "execute_result",
          "data": {
            "text/plain": [
              "array([[3],\n",
              "       [8],\n",
              "       [8],\n",
              "       ...,\n",
              "       [5],\n",
              "       [1],\n",
              "       [7]], dtype=uint8)"
            ]
          },
          "metadata": {},
          "execution_count": 10
        }
      ]
    },
    {
      "cell_type": "code",
      "source": [
        "train_labels"
      ],
      "metadata": {
        "colab": {
          "base_uri": "https://localhost:8080/"
        },
        "id": "EIyi_wjq_B53",
        "outputId": "572aa149-2208-4a09-c1a0-322ae025b8a9"
      },
      "execution_count": 11,
      "outputs": [
        {
          "output_type": "execute_result",
          "data": {
            "text/plain": [
              "array([[6],\n",
              "       [9],\n",
              "       [9],\n",
              "       ...,\n",
              "       [9],\n",
              "       [1],\n",
              "       [1]], dtype=uint8)"
            ]
          },
          "metadata": {},
          "execution_count": 11
        }
      ]
    },
    {
      "cell_type": "code",
      "source": [
        "train_labels1"
      ],
      "metadata": {
        "colab": {
          "base_uri": "https://localhost:8080/"
        },
        "id": "R6KtRE9OEjl9",
        "outputId": "54cb1d17-6399-4ad2-8a47-cfe23821bc0a"
      },
      "execution_count": 12,
      "outputs": [
        {
          "output_type": "execute_result",
          "data": {
            "text/plain": [
              "array([6, 9, 9, ..., 9, 1, 1], dtype=uint8)"
            ]
          },
          "metadata": {},
          "execution_count": 12
        }
      ]
    },
    {
      "cell_type": "code",
      "source": [
        "for i in range(7):\n",
        "  plott(i)\n",
        "  plt.show()"
      ],
      "metadata": {
        "colab": {
          "base_uri": "https://localhost:8080/",
          "height": 1000
        },
        "id": "h9jgNL2z3R5F",
        "outputId": "cbc8c2e8-a9ac-4511-f373-1e7530b1ea63"
      },
      "execution_count": 13,
      "outputs": [
        {
          "output_type": "display_data",
          "data": {
            "text/plain": [
              "<Figure size 640x480 with 1 Axes>"
            ],
            "image/png": "[encoded data removed]"
          },
          "metadata": {}
        },
        {
          "output_type": "display_data",
          "data": {
            "text/plain": [
              "<Figure size 640x480 with 1 Axes>"
            ],
            "image/png": "[encoded data removed]"
          },
          "metadata": {}
        },
        {
          "output_type": "display_data",
          "data": {
            "text/plain": [
              "<Figure size 640x480 with 1 Axes>"
            ],
            "image/png": "[encoded data removed]"
          },
          "metadata": {}
        },
        {
          "output_type": "display_data",
          "data": {
            "text/plain": [
              "<Figure size 640x480 with 1 Axes>"
            ],
            "image/png": "[encoded data removed]"
          },
          "metadata": {}
        },
        {
          "output_type": "display_data",
          "data": {
            "text/plain": [
              "<Figure size 640x480 with 1 Axes>"
            ],
            "image/png": "[encoded data removed]"
          },
          "metadata": {}
        },
        {
          "output_type": "display_data",
          "data": {
            "text/plain": [
              "<Figure size 640x480 with 1 Axes>"
            ],
            "image/png": "[encoded data removed]"
          },
          "metadata": {}
        },
        {
          "output_type": "display_data",
          "data": {
            "text/plain": [
              "<Figure size 640x480 with 1 Axes>"
            ],
            "image/png": "[encoded data removed]"
          },
          "metadata": {}
        }
      ]
    },
    {
      "cell_type": "code",
      "source": [
        "model1=Sequential()\n",
        "\n",
        "model1.add(Conv2D(32,(3,3),input_shape=(32,32,3),activation='relu'))\n",
        "model1.add(MaxPool2D(2,2))\n",
        "\n",
        "model1.add(Conv2D(32,(3,3),activation='relu'))\n",
        "model1.add(MaxPool2D(2,2))\n",
        "\n",
        "model1.add(Flatten())\n",
        "\n",
        "model1.add(Dense(64,activation='relu',))\n",
        "model1.add(Dense(10))"
      ],
      "metadata": {
        "id": "9tEYT4DK3XQM"
      },
      "execution_count": 14,
      "outputs": []
    },
    {
      "cell_type": "code",
      "source": [
        "from keras.losses import CategoricalCrossentropy\n",
        "model1.compile(optimizer='adam',loss=CategoricalCrossentropy(from_logits=True),metrics=['accuracy'])"
      ],
      "metadata": {
        "id": "UkmfAgHABCGf"
      },
      "execution_count": 15,
      "outputs": []
    },
    {
      "cell_type": "code",
      "source": [
        "model1.summary()"
      ],
      "metadata": {
        "colab": {
          "base_uri": "https://localhost:8080/"
        },
        "id": "1lwgVJ9bCHXm",
        "outputId": "0b96f9c6-7564-4991-8b3a-c2395c780c01"
      },
      "execution_count": 16,
      "outputs": [
        {
          "output_type": "stream",
          "name": "stdout",
          "text": [
            "Model: \"sequential\"\n",
            "_________________________________________________________________\n",
            " Layer (type)                Output Shape              Param #   \n",
            "=================================================================\n",
            " conv2d (Conv2D)             (None, 30, 30, 32)        896       \n",
            "                                                                 \n",
            " max_pooling2d (MaxPooling2D  (None, 15, 15, 32)       0         \n",
            " )                                                               \n",
            "                                                                 \n",
            " conv2d_1 (Conv2D)           (None, 13, 13, 32)        9248      \n",
            "                                                                 \n",
            " max_pooling2d_1 (MaxPooling  (None, 6, 6, 32)         0         \n",
            " 2D)                                                             \n",
            "                                                                 \n",
            " flatten (Flatten)           (None, 1152)              0         \n",
            "                                                                 \n",
            " dense (Dense)               (None, 64)                73792     \n",
            "                                                                 \n",
            " dense_1 (Dense)             (None, 10)                650       \n",
            "                                                                 \n",
            "=================================================================\n",
            "Total params: 84,586\n",
            "Trainable params: 84,586\n",
            "Non-trainable params: 0\n",
            "_________________________________________________________________\n"
          ]
        }
      ]
    },
    {
      "cell_type": "code",
      "source": [
        "from keras.utils import to_categorical\n",
        "train_labels_en = to_categorical(train_labels,10)\n",
        "test_labels_en = to_categorical(test_labels,10)"
      ],
      "metadata": {
        "id": "Vzj1rLETDri9"
      },
      "execution_count": 17,
      "outputs": []
    },
    {
      "cell_type": "code",
      "source": [
        "fit1=model1.fit(train_images,train_labels_en,epochs=20,validation_data=(test_images, test_labels_en))"
      ],
      "metadata": {
        "colab": {
          "base_uri": "https://localhost:8080/"
        },
        "id": "X2khWsLhCps7",
        "outputId": "90cac72d-8c15-4d91-e700-d4442aaa5160"
      },
      "execution_count": 18,
      "outputs": [
        {
          "output_type": "stream",
          "name": "stdout",
          "text": [
            "Epoch 1/20\n",
            "1563/1563 [==============================] - 25s 8ms/step - loss: 1.5372 - accuracy: 0.4443 - val_loss: 1.3070 - val_accuracy: 0.5365\n",
            "Epoch 2/20\n",
            "1563/1563 [==============================] - 7s 4ms/step - loss: 1.2059 - accuracy: 0.5743 - val_loss: 1.1451 - val_accuracy: 0.6014\n",
            "Epoch 3/20\n",
            "1563/1563 [==============================] - 7s 5ms/step - loss: 1.0880 - accuracy: 0.6201 - val_loss: 1.1147 - val_accuracy: 0.6092\n",
            "Epoch 4/20\n",
            "1563/1563 [==============================] - 7s 4ms/step - loss: 1.0118 - accuracy: 0.6470 - val_loss: 1.0162 - val_accuracy: 0.6465\n",
            "Epoch 5/20\n",
            "1563/1563 [==============================] - 7s 5ms/step - loss: 0.9570 - accuracy: 0.6652 - val_loss: 1.0012 - val_accuracy: 0.6488\n",
            "Epoch 6/20\n",
            "1563/1563 [==============================] - 8s 5ms/step - loss: 0.9183 - accuracy: 0.6796 - val_loss: 0.9790 - val_accuracy: 0.6577\n",
            "Epoch 7/20\n",
            "1563/1563 [==============================] - 7s 4ms/step - loss: 0.8801 - accuracy: 0.6914 - val_loss: 0.9902 - val_accuracy: 0.6632\n",
            "Epoch 8/20\n",
            "1563/1563 [==============================] - 7s 5ms/step - loss: 0.8444 - accuracy: 0.7061 - val_loss: 0.9701 - val_accuracy: 0.6663\n",
            "Epoch 9/20\n",
            "1563/1563 [==============================] - 8s 5ms/step - loss: 0.8129 - accuracy: 0.7161 - val_loss: 0.9470 - val_accuracy: 0.6742\n",
            "Epoch 10/20\n",
            "1563/1563 [==============================] - 7s 5ms/step - loss: 0.7854 - accuracy: 0.7244 - val_loss: 0.9317 - val_accuracy: 0.6876\n",
            "Epoch 11/20\n",
            "1563/1563 [==============================] - 8s 5ms/step - loss: 0.7600 - accuracy: 0.7356 - val_loss: 0.9351 - val_accuracy: 0.6828\n",
            "Epoch 12/20\n",
            "1563/1563 [==============================] - 9s 6ms/step - loss: 0.7306 - accuracy: 0.7449 - val_loss: 0.9238 - val_accuracy: 0.6916\n",
            "Epoch 13/20\n",
            "1563/1563 [==============================] - 7s 4ms/step - loss: 0.7127 - accuracy: 0.7527 - val_loss: 0.9082 - val_accuracy: 0.6961\n",
            "Epoch 14/20\n",
            "1563/1563 [==============================] - 8s 5ms/step - loss: 0.6934 - accuracy: 0.7580 - val_loss: 0.9425 - val_accuracy: 0.6861\n",
            "Epoch 15/20\n",
            "1563/1563 [==============================] - 9s 6ms/step - loss: 0.6755 - accuracy: 0.7622 - val_loss: 0.9223 - val_accuracy: 0.6936\n",
            "Epoch 16/20\n",
            "1563/1563 [==============================] - 11s 7ms/step - loss: 0.6559 - accuracy: 0.7710 - val_loss: 0.9461 - val_accuracy: 0.6913\n",
            "Epoch 17/20\n",
            "1563/1563 [==============================] - 10s 6ms/step - loss: 0.6421 - accuracy: 0.7757 - val_loss: 0.9416 - val_accuracy: 0.6896\n",
            "Epoch 18/20\n",
            "1563/1563 [==============================] - 10s 6ms/step - loss: 0.6225 - accuracy: 0.7816 - val_loss: 0.9736 - val_accuracy: 0.6892\n",
            "Epoch 19/20\n",
            "1563/1563 [==============================] - 11s 7ms/step - loss: 0.6130 - accuracy: 0.7862 - val_loss: 0.9542 - val_accuracy: 0.6933\n",
            "Epoch 20/20\n",
            "1563/1563 [==============================] - 7s 5ms/step - loss: 0.5968 - accuracy: 0.7900 - val_loss: 0.9547 - val_accuracy: 0.6923\n"
          ]
        }
      ]
    },
    {
      "cell_type": "code",
      "source": [
        "model2=Sequential()\n",
        "\n",
        "model2.add(Conv2D(32,(3,3),input_shape=(32,32,3),activation='relu'))\n",
        "model2.add(MaxPool2D(2,2))\n",
        "model2.add(Dropout(0.2))\n",
        "\n",
        "model2.add(Conv2D(32,(3,3),activation='relu'))\n",
        "model2.add(MaxPool2D(2,2))\n",
        "model2.add(Dropout(0.25))\n",
        "\n",
        "model2.add(Flatten())\n",
        "\n",
        "model2.add(Dense(64,activation='relu'))\n",
        "model2.add(Dense(10,activation='softmax'))"
      ],
      "metadata": {
        "id": "UdNL8gJPDNZ-"
      },
      "execution_count": 19,
      "outputs": []
    },
    {
      "cell_type": "code",
      "source": [
        "model2.summary()"
      ],
      "metadata": {
        "colab": {
          "base_uri": "https://localhost:8080/"
        },
        "id": "fbAUQQ5NImR7",
        "outputId": "f000dcc9-bd4d-450d-bb86-65ed2ddd5162"
      },
      "execution_count": 20,
      "outputs": [
        {
          "output_type": "stream",
          "name": "stdout",
          "text": [
            "Model: \"sequential_1\"\n",
            "_________________________________________________________________\n",
            " Layer (type)                Output Shape              Param #   \n",
            "=================================================================\n",
            " conv2d_2 (Conv2D)           (None, 30, 30, 32)        896       \n",
            "                                                                 \n",
            " max_pooling2d_2 (MaxPooling  (None, 15, 15, 32)       0         \n",
            " 2D)                                                             \n",
            "                                                                 \n",
            " dropout (Dropout)           (None, 15, 15, 32)        0         \n",
            "                                                                 \n",
            " conv2d_3 (Conv2D)           (None, 13, 13, 32)        9248      \n",
            "                                                                 \n",
            " max_pooling2d_3 (MaxPooling  (None, 6, 6, 32)         0         \n",
            " 2D)                                                             \n",
            "                                                                 \n",
            " dropout_1 (Dropout)         (None, 6, 6, 32)          0         \n",
            "                                                                 \n",
            " flatten_1 (Flatten)         (None, 1152)              0         \n",
            "                                                                 \n",
            " dense_2 (Dense)             (None, 64)                73792     \n",
            "                                                                 \n",
            " dense_3 (Dense)             (None, 10)                650       \n",
            "                                                                 \n",
            "=================================================================\n",
            "Total params: 84,586\n",
            "Trainable params: 84,586\n",
            "Non-trainable params: 0\n",
            "_________________________________________________________________\n"
          ]
        }
      ]
    },
    {
      "cell_type": "code",
      "source": [
        "model2.compile(optimizer='adam',loss=CategoricalCrossentropy(from_logits=True),metrics=['accuracy'])"
      ],
      "metadata": {
        "id": "tK-8XYOAIzOw"
      },
      "execution_count": 21,
      "outputs": []
    },
    {
      "cell_type": "code",
      "source": [
        "fit2=model2.fit(train_images,train_labels_en,epochs=40,validation_data=(test_images, test_labels_en))"
      ],
      "metadata": {
        "colab": {
          "base_uri": "https://localhost:8080/"
        },
        "id": "z5lqxoKnI9wh",
        "outputId": "b8b21674-13e0-4540-c7f4-58cdff01ac56"
      },
      "execution_count": 22,
      "outputs": [
        {
          "output_type": "stream",
          "name": "stdout",
          "text": [
            "Epoch 1/40\n"
          ]
        },
        {
          "output_type": "stream",
          "name": "stderr",
          "text": [
            "/usr/local/lib/python3.10/dist-packages/keras/backend.py:5561: UserWarning: \"`categorical_crossentropy` received `from_logits=True`, but the `output` argument was produced by a Softmax activation and thus does not represent logits. Was this intended?\n",
            "  output, from_logits = _get_logits(\n"
          ]
        },
        {
          "output_type": "stream",
          "name": "stdout",
          "text": [
            "1563/1563 [==============================] - 9s 5ms/step - loss: 1.5498 - accuracy: 0.4387 - val_loss: 1.3004 - val_accuracy: 0.5409\n",
            "Epoch 2/40\n",
            "1563/1563 [==============================] - 7s 4ms/step - loss: 1.2065 - accuracy: 0.5740 - val_loss: 1.1358 - val_accuracy: 0.6156\n",
            "Epoch 3/40\n",
            "1563/1563 [==============================] - 8s 5ms/step - loss: 1.0940 - accuracy: 0.6158 - val_loss: 1.0433 - val_accuracy: 0.6391\n",
            "Epoch 4/40\n",
            "1563/1563 [==============================] - 7s 5ms/step - loss: 1.0335 - accuracy: 0.6382 - val_loss: 0.9427 - val_accuracy: 0.6738\n",
            "Epoch 5/40\n",
            "1563/1563 [==============================] - 8s 5ms/step - loss: 0.9868 - accuracy: 0.6530 - val_loss: 0.9198 - val_accuracy: 0.6822\n",
            "Epoch 6/40\n",
            "1563/1563 [==============================] - 7s 5ms/step - loss: 0.9502 - accuracy: 0.6667 - val_loss: 0.9157 - val_accuracy: 0.6819\n",
            "Epoch 7/40\n",
            "1563/1563 [==============================] - 8s 5ms/step - loss: 0.9173 - accuracy: 0.6760 - val_loss: 0.9079 - val_accuracy: 0.6872\n",
            "Epoch 8/40\n",
            "1563/1563 [==============================] - 8s 5ms/step - loss: 0.8868 - accuracy: 0.6880 - val_loss: 0.8743 - val_accuracy: 0.6979\n",
            "Epoch 9/40\n",
            "1563/1563 [==============================] - 7s 5ms/step - loss: 0.8653 - accuracy: 0.6969 - val_loss: 0.8525 - val_accuracy: 0.7065\n",
            "Epoch 10/40\n",
            "1563/1563 [==============================] - 7s 4ms/step - loss: 0.8403 - accuracy: 0.7030 - val_loss: 0.8486 - val_accuracy: 0.7098\n",
            "Epoch 11/40\n",
            "1563/1563 [==============================] - 8s 5ms/step - loss: 0.8243 - accuracy: 0.7106 - val_loss: 0.8551 - val_accuracy: 0.7046\n",
            "Epoch 12/40\n",
            "1563/1563 [==============================] - 7s 4ms/step - loss: 0.8107 - accuracy: 0.7140 - val_loss: 0.8273 - val_accuracy: 0.7130\n",
            "Epoch 13/40\n",
            "1563/1563 [==============================] - 8s 5ms/step - loss: 0.7972 - accuracy: 0.7208 - val_loss: 0.8217 - val_accuracy: 0.7166\n",
            "Epoch 14/40\n",
            "1563/1563 [==============================] - 7s 5ms/step - loss: 0.7775 - accuracy: 0.7257 - val_loss: 0.8159 - val_accuracy: 0.7196\n",
            "Epoch 15/40\n",
            "1563/1563 [==============================] - 7s 4ms/step - loss: 0.7690 - accuracy: 0.7293 - val_loss: 0.8365 - val_accuracy: 0.7093\n",
            "Epoch 16/40\n",
            "1563/1563 [==============================] - 8s 5ms/step - loss: 0.7571 - accuracy: 0.7327 - val_loss: 0.8483 - val_accuracy: 0.7042\n",
            "Epoch 17/40\n",
            "1563/1563 [==============================] - 7s 4ms/step - loss: 0.7488 - accuracy: 0.7355 - val_loss: 0.8325 - val_accuracy: 0.7107\n",
            "Epoch 18/40\n",
            "1563/1563 [==============================] - 7s 5ms/step - loss: 0.7389 - accuracy: 0.7391 - val_loss: 0.8007 - val_accuracy: 0.7264\n",
            "Epoch 19/40\n",
            "1563/1563 [==============================] - 7s 5ms/step - loss: 0.7303 - accuracy: 0.7428 - val_loss: 0.8127 - val_accuracy: 0.7200\n",
            "Epoch 20/40\n",
            "1563/1563 [==============================] - 7s 5ms/step - loss: 0.7195 - accuracy: 0.7471 - val_loss: 0.8191 - val_accuracy: 0.7158\n",
            "Epoch 21/40\n",
            "1563/1563 [==============================] - 7s 5ms/step - loss: 0.7178 - accuracy: 0.7469 - val_loss: 0.8026 - val_accuracy: 0.7180\n",
            "Epoch 22/40\n",
            "1563/1563 [==============================] - 7s 5ms/step - loss: 0.7092 - accuracy: 0.7487 - val_loss: 0.8223 - val_accuracy: 0.7205\n",
            "Epoch 23/40\n",
            "1563/1563 [==============================] - 8s 5ms/step - loss: 0.7002 - accuracy: 0.7516 - val_loss: 0.8158 - val_accuracy: 0.7231\n",
            "Epoch 24/40\n",
            "1563/1563 [==============================] - 7s 5ms/step - loss: 0.6953 - accuracy: 0.7536 - val_loss: 0.8025 - val_accuracy: 0.7282\n",
            "Epoch 25/40\n",
            "1563/1563 [==============================] - 7s 5ms/step - loss: 0.6846 - accuracy: 0.7583 - val_loss: 0.8071 - val_accuracy: 0.7255\n",
            "Epoch 26/40\n",
            "1563/1563 [==============================] - 8s 5ms/step - loss: 0.6838 - accuracy: 0.7593 - val_loss: 0.8210 - val_accuracy: 0.7172\n",
            "Epoch 27/40\n",
            "1563/1563 [==============================] - 7s 4ms/step - loss: 0.6780 - accuracy: 0.7591 - val_loss: 0.8370 - val_accuracy: 0.7105\n",
            "Epoch 28/40\n",
            "1563/1563 [==============================] - 8s 5ms/step - loss: 0.6757 - accuracy: 0.7620 - val_loss: 0.8601 - val_accuracy: 0.7152\n",
            "Epoch 29/40\n",
            "1563/1563 [==============================] - 8s 5ms/step - loss: 0.6726 - accuracy: 0.7624 - val_loss: 0.8341 - val_accuracy: 0.7182\n",
            "Epoch 30/40\n",
            "1563/1563 [==============================] - 7s 5ms/step - loss: 0.6664 - accuracy: 0.7615 - val_loss: 0.8390 - val_accuracy: 0.7159\n",
            "Epoch 31/40\n",
            "1563/1563 [==============================] - 7s 5ms/step - loss: 0.6569 - accuracy: 0.7665 - val_loss: 0.7927 - val_accuracy: 0.7313\n",
            "Epoch 32/40\n",
            "1563/1563 [==============================] - 7s 5ms/step - loss: 0.6579 - accuracy: 0.7665 - val_loss: 0.8252 - val_accuracy: 0.7217\n",
            "Epoch 33/40\n",
            "1563/1563 [==============================] - 7s 4ms/step - loss: 0.6508 - accuracy: 0.7684 - val_loss: 0.8249 - val_accuracy: 0.7206\n",
            "Epoch 34/40\n",
            "1563/1563 [==============================] - 7s 5ms/step - loss: 0.6515 - accuracy: 0.7692 - val_loss: 0.7945 - val_accuracy: 0.7339\n",
            "Epoch 35/40\n",
            "1563/1563 [==============================] - 7s 4ms/step - loss: 0.6465 - accuracy: 0.7715 - val_loss: 0.8352 - val_accuracy: 0.7203\n",
            "Epoch 36/40\n",
            "1563/1563 [==============================] - 8s 5ms/step - loss: 0.6456 - accuracy: 0.7706 - val_loss: 0.8190 - val_accuracy: 0.7259\n",
            "Epoch 37/40\n",
            "1563/1563 [==============================] - 7s 5ms/step - loss: 0.6391 - accuracy: 0.7731 - val_loss: 0.8023 - val_accuracy: 0.7267\n",
            "Epoch 38/40\n",
            "1563/1563 [==============================] - 8s 5ms/step - loss: 0.6347 - accuracy: 0.7754 - val_loss: 0.8129 - val_accuracy: 0.7260\n",
            "Epoch 39/40\n",
            "1563/1563 [==============================] - 7s 5ms/step - loss: 0.6408 - accuracy: 0.7742 - val_loss: 0.7977 - val_accuracy: 0.7290\n",
            "Epoch 40/40\n",
            "1563/1563 [==============================] - 7s 5ms/step - loss: 0.6333 - accuracy: 0.7769 - val_loss: 0.7974 - val_accuracy: 0.7306\n"
          ]
        }
      ]
    },
    {
      "cell_type": "code",
      "source": [
        "from keras.layers import BatchNormalization"
      ],
      "metadata": {
        "id": "NMvoJvk16EGH"
      },
      "execution_count": 23,
      "outputs": []
    },
    {
      "cell_type": "code",
      "source": [
        "model3=Sequential()\n",
        "\n",
        "model3.add(Conv2D(64,(3,3),activation='relu',input_shape=(32,32,3)))\n",
        "model3.add(BatchNormalization())\n",
        "model3.add(MaxPool2D(2,2))\n",
        "model3.add(Dropout(0.4))\n",
        "\n",
        "model3.add(Conv2D(64,(3,3),activation='relu'))\n",
        "model3.add(BatchNormalization())\n",
        "model3.add(MaxPool2D(2,2))\n",
        "model3.add(Dropout(0.3))\n",
        "\n",
        "model3.add(Conv2D(32,(3,3),activation='relu',input_shape=(32,32,3)))\n",
        "model3.add(BatchNormalization())\n",
        "model3.add(MaxPool2D(2,2))\n",
        "model3.add(Dropout(0.2))\n",
        "\n",
        "model3.add(Flatten())\n",
        "\n",
        "model3.add(Dense(64,activation='relu'))\n",
        "model3.add(BatchNormalization())\n",
        "model3.add(Dropout(0.15))\n",
        "\n",
        "model3.add(Dense(10,activation='softmax'))\n",
        "\n"
      ],
      "metadata": {
        "id": "2jMepfVjJIfi"
      },
      "execution_count": 24,
      "outputs": []
    },
    {
      "cell_type": "code",
      "source": [
        "model3.compile(optimizer='adam',loss='categorical_crossentropy',metrics=['accuracy'])"
      ],
      "metadata": {
        "id": "BRJEJDLG6L1E"
      },
      "execution_count": 25,
      "outputs": []
    },
    {
      "cell_type": "code",
      "source": [
        "model3.fit(train_images,train_labels_en,epochs=70,validation_data=(test_images,test_labels_en))"
      ],
      "metadata": {
        "colab": {
          "base_uri": "https://localhost:8080/"
        },
        "id": "uEx6TsZA6kKh",
        "outputId": "f2fe81d4-cc92-4b22-ede1-c69c7c235117"
      },
      "execution_count": 26,
      "outputs": [
        {
          "output_type": "stream",
          "name": "stdout",
          "text": [
            "Epoch 1/70\n",
            "1563/1563 [==============================] - 15s 7ms/step - loss: 1.6958 - accuracy: 0.3904 - val_loss: 1.4055 - val_accuracy: 0.5107\n",
            "Epoch 2/70\n",
            "1563/1563 [==============================] - 12s 8ms/step - loss: 1.3692 - accuracy: 0.5067 - val_loss: 1.2855 - val_accuracy: 0.5382\n",
            "Epoch 3/70\n",
            "1563/1563 [==============================] - 11s 7ms/step - loss: 1.2429 - accuracy: 0.5576 - val_loss: 2.2865 - val_accuracy: 0.3101\n",
            "Epoch 4/70\n",
            "1563/1563 [==============================] - 11s 7ms/step - loss: 1.1661 - accuracy: 0.5870 - val_loss: 1.5270 - val_accuracy: 0.4557\n",
            "Epoch 5/70\n",
            "1563/1563 [==============================] - 12s 7ms/step - loss: 1.1140 - accuracy: 0.6088 - val_loss: 0.9634 - val_accuracy: 0.6609\n",
            "Epoch 6/70\n",
            "1563/1563 [==============================] - 11s 7ms/step - loss: 1.0802 - accuracy: 0.6181 - val_loss: 1.2704 - val_accuracy: 0.5615\n",
            "Epoch 7/70\n",
            "1563/1563 [==============================] - 12s 8ms/step - loss: 1.0542 - accuracy: 0.6275 - val_loss: 1.0598 - val_accuracy: 0.6247\n",
            "Epoch 8/70\n",
            "1563/1563 [==============================] - 12s 7ms/step - loss: 1.0333 - accuracy: 0.6362 - val_loss: 1.1655 - val_accuracy: 0.5830\n",
            "Epoch 9/70\n",
            "1563/1563 [==============================] - 11s 7ms/step - loss: 1.0060 - accuracy: 0.6476 - val_loss: 0.9053 - val_accuracy: 0.6831\n",
            "Epoch 10/70\n",
            "1563/1563 [==============================] - 10s 7ms/step - loss: 0.9908 - accuracy: 0.6512 - val_loss: 1.2144 - val_accuracy: 0.5666\n",
            "Epoch 11/70\n",
            "1563/1563 [==============================] - 11s 7ms/step - loss: 0.9737 - accuracy: 0.6590 - val_loss: 0.8670 - val_accuracy: 0.6945\n",
            "Epoch 12/70\n",
            "1563/1563 [==============================] - 11s 7ms/step - loss: 0.9609 - accuracy: 0.6631 - val_loss: 0.9231 - val_accuracy: 0.6667\n",
            "Epoch 13/70\n",
            "1563/1563 [==============================] - 11s 7ms/step - loss: 0.9441 - accuracy: 0.6695 - val_loss: 1.0112 - val_accuracy: 0.6293\n",
            "Epoch 14/70\n",
            "1563/1563 [==============================] - 11s 7ms/step - loss: 0.9390 - accuracy: 0.6730 - val_loss: 0.8017 - val_accuracy: 0.7179\n",
            "Epoch 15/70\n",
            "1563/1563 [==============================] - 12s 8ms/step - loss: 0.9282 - accuracy: 0.6752 - val_loss: 0.8582 - val_accuracy: 0.7007\n",
            "Epoch 16/70\n",
            "1563/1563 [==============================] - 11s 7ms/step - loss: 0.9217 - accuracy: 0.6794 - val_loss: 0.8618 - val_accuracy: 0.7015\n",
            "Epoch 17/70\n",
            "1563/1563 [==============================] - 11s 7ms/step - loss: 0.9078 - accuracy: 0.6822 - val_loss: 0.8453 - val_accuracy: 0.7027\n",
            "Epoch 18/70\n",
            "1563/1563 [==============================] - 11s 7ms/step - loss: 0.9051 - accuracy: 0.6844 - val_loss: 0.7733 - val_accuracy: 0.7261\n",
            "Epoch 19/70\n",
            "1563/1563 [==============================] - 11s 7ms/step - loss: 0.8987 - accuracy: 0.6876 - val_loss: 0.7727 - val_accuracy: 0.7313\n",
            "Epoch 20/70\n",
            "1563/1563 [==============================] - 11s 7ms/step - loss: 0.8865 - accuracy: 0.6893 - val_loss: 0.8062 - val_accuracy: 0.7163\n",
            "Epoch 21/70\n",
            "1563/1563 [==============================] - 10s 7ms/step - loss: 0.8776 - accuracy: 0.6925 - val_loss: 0.7900 - val_accuracy: 0.7249\n",
            "Epoch 22/70\n",
            "1563/1563 [==============================] - 11s 7ms/step - loss: 0.8802 - accuracy: 0.6918 - val_loss: 0.8769 - val_accuracy: 0.6913\n",
            "Epoch 23/70\n",
            "1563/1563 [==============================] - 11s 7ms/step - loss: 0.8751 - accuracy: 0.6943 - val_loss: 0.7897 - val_accuracy: 0.7244\n",
            "Epoch 24/70\n",
            "1563/1563 [==============================] - 11s 7ms/step - loss: 0.8690 - accuracy: 0.6978 - val_loss: 0.8709 - val_accuracy: 0.6890\n",
            "Epoch 25/70\n",
            "1563/1563 [==============================] - 11s 7ms/step - loss: 0.8607 - accuracy: 0.7008 - val_loss: 0.9424 - val_accuracy: 0.6701\n",
            "Epoch 26/70\n",
            "1563/1563 [==============================] - 11s 7ms/step - loss: 0.8609 - accuracy: 0.6979 - val_loss: 0.7959 - val_accuracy: 0.7214\n",
            "Epoch 27/70\n",
            "1563/1563 [==============================] - 11s 7ms/step - loss: 0.8520 - accuracy: 0.7008 - val_loss: 0.7522 - val_accuracy: 0.7350\n",
            "Epoch 28/70\n",
            "1563/1563 [==============================] - 11s 7ms/step - loss: 0.8540 - accuracy: 0.7028 - val_loss: 0.7850 - val_accuracy: 0.7209\n",
            "Epoch 29/70\n",
            "1563/1563 [==============================] - 10s 7ms/step - loss: 0.8485 - accuracy: 0.7032 - val_loss: 0.8629 - val_accuracy: 0.6942\n",
            "Epoch 30/70\n",
            "1563/1563 [==============================] - 10s 7ms/step - loss: 0.8478 - accuracy: 0.7070 - val_loss: 0.9353 - val_accuracy: 0.6683\n",
            "Epoch 31/70\n",
            "1563/1563 [==============================] - 11s 7ms/step - loss: 0.8437 - accuracy: 0.7057 - val_loss: 0.9538 - val_accuracy: 0.6654\n",
            "Epoch 32/70\n",
            "1563/1563 [==============================] - 11s 7ms/step - loss: 0.8394 - accuracy: 0.7081 - val_loss: 0.8381 - val_accuracy: 0.7114\n",
            "Epoch 33/70\n",
            "1563/1563 [==============================] - 11s 7ms/step - loss: 0.8392 - accuracy: 0.7088 - val_loss: 0.7890 - val_accuracy: 0.7225\n",
            "Epoch 34/70\n",
            "1563/1563 [==============================] - 11s 7ms/step - loss: 0.8344 - accuracy: 0.7100 - val_loss: 0.7301 - val_accuracy: 0.7451\n",
            "Epoch 35/70\n",
            "1563/1563 [==============================] - 11s 7ms/step - loss: 0.8292 - accuracy: 0.7117 - val_loss: 0.7448 - val_accuracy: 0.7429\n",
            "Epoch 36/70\n",
            "1563/1563 [==============================] - 11s 7ms/step - loss: 0.8266 - accuracy: 0.7123 - val_loss: 0.8797 - val_accuracy: 0.6891\n",
            "Epoch 37/70\n",
            "1563/1563 [==============================] - 11s 7ms/step - loss: 0.8257 - accuracy: 0.7141 - val_loss: 0.7798 - val_accuracy: 0.7216\n",
            "Epoch 38/70\n",
            "1563/1563 [==============================] - 11s 7ms/step - loss: 0.8253 - accuracy: 0.7142 - val_loss: 0.7810 - val_accuracy: 0.7320\n",
            "Epoch 39/70\n",
            "1563/1563 [==============================] - 11s 7ms/step - loss: 0.8188 - accuracy: 0.7155 - val_loss: 0.7406 - val_accuracy: 0.7397\n",
            "Epoch 40/70\n",
            "1563/1563 [==============================] - 11s 7ms/step - loss: 0.8191 - accuracy: 0.7133 - val_loss: 0.8991 - val_accuracy: 0.6881\n",
            "Epoch 41/70\n",
            "1563/1563 [==============================] - 11s 7ms/step - loss: 0.8174 - accuracy: 0.7144 - val_loss: 0.7526 - val_accuracy: 0.7367\n",
            "Epoch 42/70\n",
            "1563/1563 [==============================] - 11s 7ms/step - loss: 0.8167 - accuracy: 0.7158 - val_loss: 0.7807 - val_accuracy: 0.7287\n",
            "Epoch 43/70\n",
            "1563/1563 [==============================] - 11s 7ms/step - loss: 0.8086 - accuracy: 0.7164 - val_loss: 0.7137 - val_accuracy: 0.7492\n",
            "Epoch 44/70\n",
            "1563/1563 [==============================] - 11s 7ms/step - loss: 0.8099 - accuracy: 0.7189 - val_loss: 0.7359 - val_accuracy: 0.7450\n",
            "Epoch 45/70\n",
            "1563/1563 [==============================] - 11s 7ms/step - loss: 0.8080 - accuracy: 0.7177 - val_loss: 0.7484 - val_accuracy: 0.7365\n",
            "Epoch 46/70\n",
            "1563/1563 [==============================] - 11s 7ms/step - loss: 0.8057 - accuracy: 0.7201 - val_loss: 0.7271 - val_accuracy: 0.7422\n",
            "Epoch 47/70\n",
            "1563/1563 [==============================] - 11s 7ms/step - loss: 0.8022 - accuracy: 0.7210 - val_loss: 0.7242 - val_accuracy: 0.7452\n",
            "Epoch 48/70\n",
            "1563/1563 [==============================] - 11s 7ms/step - loss: 0.7996 - accuracy: 0.7199 - val_loss: 0.7468 - val_accuracy: 0.7388\n",
            "Epoch 49/70\n",
            "1563/1563 [==============================] - 11s 7ms/step - loss: 0.8031 - accuracy: 0.7202 - val_loss: 0.8074 - val_accuracy: 0.7133\n",
            "Epoch 50/70\n",
            "1563/1563 [==============================] - 11s 7ms/step - loss: 0.8023 - accuracy: 0.7207 - val_loss: 0.7716 - val_accuracy: 0.7320\n",
            "Epoch 51/70\n",
            "1563/1563 [==============================] - 11s 7ms/step - loss: 0.7959 - accuracy: 0.7268 - val_loss: 0.7379 - val_accuracy: 0.7405\n",
            "Epoch 52/70\n",
            "1563/1563 [==============================] - 11s 7ms/step - loss: 0.7964 - accuracy: 0.7258 - val_loss: 0.7090 - val_accuracy: 0.7524\n",
            "Epoch 53/70\n",
            "1563/1563 [==============================] - 11s 7ms/step - loss: 0.7967 - accuracy: 0.7229 - val_loss: 0.7887 - val_accuracy: 0.7261\n",
            "Epoch 54/70\n",
            "1563/1563 [==============================] - 11s 7ms/step - loss: 0.7950 - accuracy: 0.7228 - val_loss: 0.7538 - val_accuracy: 0.7406\n",
            "Epoch 55/70\n",
            "1563/1563 [==============================] - 11s 7ms/step - loss: 0.7889 - accuracy: 0.7267 - val_loss: 0.7482 - val_accuracy: 0.7387\n",
            "Epoch 56/70\n",
            "1563/1563 [==============================] - 11s 7ms/step - loss: 0.7876 - accuracy: 0.7272 - val_loss: 0.6981 - val_accuracy: 0.7587\n",
            "Epoch 57/70\n",
            "1563/1563 [==============================] - 11s 7ms/step - loss: 0.7878 - accuracy: 0.7249 - val_loss: 0.6523 - val_accuracy: 0.7742\n",
            "Epoch 58/70\n",
            "1563/1563 [==============================] - 11s 7ms/step - loss: 0.7911 - accuracy: 0.7233 - val_loss: 0.7213 - val_accuracy: 0.7456\n",
            "Epoch 59/70\n",
            "1563/1563 [==============================] - 10s 7ms/step - loss: 0.7886 - accuracy: 0.7241 - val_loss: 0.7559 - val_accuracy: 0.7371\n",
            "Epoch 60/70\n",
            "1563/1563 [==============================] - 11s 7ms/step - loss: 0.7876 - accuracy: 0.7288 - val_loss: 0.7291 - val_accuracy: 0.7496\n",
            "Epoch 61/70\n",
            "1563/1563 [==============================] - 11s 7ms/step - loss: 0.7843 - accuracy: 0.7259 - val_loss: 0.7206 - val_accuracy: 0.7512\n",
            "Epoch 62/70\n",
            "1563/1563 [==============================] - 12s 7ms/step - loss: 0.7849 - accuracy: 0.7296 - val_loss: 0.8436 - val_accuracy: 0.7043\n",
            "Epoch 63/70\n",
            "1563/1563 [==============================] - 11s 7ms/step - loss: 0.7774 - accuracy: 0.7295 - val_loss: 0.7640 - val_accuracy: 0.7334\n",
            "Epoch 64/70\n",
            "1563/1563 [==============================] - 11s 7ms/step - loss: 0.7808 - accuracy: 0.7302 - val_loss: 0.7794 - val_accuracy: 0.7266\n",
            "Epoch 65/70\n",
            "1563/1563 [==============================] - 11s 7ms/step - loss: 0.7795 - accuracy: 0.7291 - val_loss: 0.8225 - val_accuracy: 0.7165\n",
            "Epoch 66/70\n",
            "1563/1563 [==============================] - 11s 7ms/step - loss: 0.7793 - accuracy: 0.7288 - val_loss: 0.7479 - val_accuracy: 0.7417\n",
            "Epoch 67/70\n",
            "1563/1563 [==============================] - 11s 7ms/step - loss: 0.7777 - accuracy: 0.7300 - val_loss: 0.7353 - val_accuracy: 0.7448\n",
            "Epoch 68/70\n",
            "1563/1563 [==============================] - 11s 7ms/step - loss: 0.7773 - accuracy: 0.7289 - val_loss: 0.6809 - val_accuracy: 0.7647\n",
            "Epoch 69/70\n",
            "1563/1563 [==============================] - 11s 7ms/step - loss: 0.7772 - accuracy: 0.7311 - val_loss: 0.7303 - val_accuracy: 0.7433\n",
            "Epoch 70/70\n",
            "1563/1563 [==============================] - 11s 7ms/step - loss: 0.7764 - accuracy: 0.7313 - val_loss: 0.7770 - val_accuracy: 0.7312\n"
          ]
        },
        {
          "output_type": "execute_result",
          "data": {
            "text/plain": [
              "<keras.callbacks.History at 0x7f9d97db3eb0>"
            ]
          },
          "metadata": {},
          "execution_count": 26
        }
      ]
    },
    {
      "cell_type": "code",
      "source": [
        "model3.summary()"
      ],
      "metadata": {
        "colab": {
          "base_uri": "https://localhost:8080/"
        },
        "id": "qdt4nT947KzZ",
        "outputId": "319bced2-1090-4b7c-c2cd-09b2b6065cf1"
      },
      "execution_count": 27,
      "outputs": [
        {
          "output_type": "stream",
          "name": "stdout",
          "text": [
            "Model: \"sequential_2\"\n",
            "_________________________________________________________________\n",
            " Layer (type)                Output Shape              Param #   \n",
            "=================================================================\n",
            " conv2d_4 (Conv2D)           (None, 30, 30, 64)        1792      \n",
            "                                                                 \n",
            " batch_normalization (BatchN  (None, 30, 30, 64)       256       \n",
            " ormalization)                                                   \n",
            "                                                                 \n",
            " max_pooling2d_4 (MaxPooling  (None, 15, 15, 64)       0         \n",
            " 2D)                                                             \n",
            "                                                                 \n",
            " dropout_2 (Dropout)         (None, 15, 15, 64)        0         \n",
            "                                                                 \n",
            " conv2d_5 (Conv2D)           (None, 13, 13, 64)        36928     \n",
            "                                                                 \n",
            " batch_normalization_1 (Batc  (None, 13, 13, 64)       256       \n",
            " hNormalization)                                                 \n",
            "                                                                 \n",
            " max_pooling2d_5 (MaxPooling  (None, 6, 6, 64)         0         \n",
            " 2D)                                                             \n",
            "                                                                 \n",
            " dropout_3 (Dropout)         (None, 6, 6, 64)          0         \n",
            "                                                                 \n",
            " conv2d_6 (Conv2D)           (None, 4, 4, 32)          18464     \n",
            "                                                                 \n",
            " batch_normalization_2 (Batc  (None, 4, 4, 32)         128       \n",
            " hNormalization)                                                 \n",
            "                                                                 \n",
            " max_pooling2d_6 (MaxPooling  (None, 2, 2, 32)         0         \n",
            " 2D)                                                             \n",
            "                                                                 \n",
            " dropout_4 (Dropout)         (None, 2, 2, 32)          0         \n",
            "                                                                 \n",
            " flatten_2 (Flatten)         (None, 128)               0         \n",
            "                                                                 \n",
            " dense_4 (Dense)             (None, 64)                8256      \n",
            "                                                                 \n",
            " batch_normalization_3 (Batc  (None, 64)               256       \n",
            " hNormalization)                                                 \n",
            "                                                                 \n",
            " dropout_5 (Dropout)         (None, 64)                0         \n",
            "                                                                 \n",
            " dense_5 (Dense)             (None, 10)                650       \n",
            "                                                                 \n",
            "=================================================================\n",
            "Total params: 66,986\n",
            "Trainable params: 66,538\n",
            "Non-trainable params: 448\n",
            "_________________________________________________________________\n"
          ]
        }
      ]
    },
    {
      "cell_type": "code",
      "source": [
        "model1.evaluate(test_images, test_labels_en)"
      ],
      "metadata": {
        "colab": {
          "base_uri": "https://localhost:8080/"
        },
        "id": "K-TFCX7R_gsH",
        "outputId": "4933f205-246c-48ca-df40-a44e1fcd4391"
      },
      "execution_count": 30,
      "outputs": [
        {
          "output_type": "stream",
          "name": "stdout",
          "text": [
            "313/313 [==============================] - 1s 3ms/step - loss: 0.9547 - accuracy: 0.6923\n"
          ]
        },
        {
          "output_type": "execute_result",
          "data": {
            "text/plain": [
              "[0.954667866230011, 0.692300021648407]"
            ]
          },
          "metadata": {},
          "execution_count": 30
        }
      ]
    },
    {
      "cell_type": "code",
      "source": [
        "model2.evaluate(test_images, test_labels_en)\n"
      ],
      "metadata": {
        "colab": {
          "base_uri": "https://localhost:8080/"
        },
        "id": "1vQhh1r7_ggI",
        "outputId": "a3dc89ee-ecc0-4487-8d2d-382b465969a0"
      },
      "execution_count": 31,
      "outputs": [
        {
          "output_type": "stream",
          "name": "stdout",
          "text": [
            "313/313 [==============================] - 1s 3ms/step - loss: 0.7974 - accuracy: 0.7306\n"
          ]
        },
        {
          "output_type": "execute_result",
          "data": {
            "text/plain": [
              "[0.7973641753196716, 0.7305999994277954]"
            ]
          },
          "metadata": {},
          "execution_count": 31
        }
      ]
    },
    {
      "cell_type": "code",
      "source": [
        "model3.evaluate(test_images, test_labels_en)\n"
      ],
      "metadata": {
        "colab": {
          "base_uri": "https://localhost:8080/"
        },
        "id": "wr0MPkSA-hDk",
        "outputId": "c21a0c31-25bb-4f33-dead-24fbb3673aaf"
      },
      "execution_count": 29,
      "outputs": [
        {
          "output_type": "stream",
          "name": "stdout",
          "text": [
            "313/313 [==============================] - 1s 3ms/step - loss: 0.7770 - accuracy: 0.7312\n"
          ]
        },
        {
          "output_type": "execute_result",
          "data": {
            "text/plain": [
              "[0.7769980430603027, 0.7311999797821045]"
            ]
          },
          "metadata": {},
          "execution_count": 29
        }
      ]
    },
    {
      "cell_type": "code",
      "source": [],
      "metadata": {
        "id": "IfVpD6j1_Zf4"
      },
      "execution_count": null,
      "outputs": []
    }
  ]
}
