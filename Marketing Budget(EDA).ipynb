{
 "cells": [
  {
   "cell_type": "markdown",
   "id": "e8aa5fa9",
   "metadata": {},
   "source": [
    "# EDA"
   ]
  },
  {
   "cell_type": "code",
   "execution_count": 2,
   "id": "bc449d80",
   "metadata": {},
   "outputs": [],
   "source": [
    "import pandas as pd\n",
    "import numpy as np\n",
    "import matplotlib.pyplot as plt\n",
    "import seaborn as sns"
   ]
  },
  {
   "cell_type": "code",
   "execution_count": 3,
   "id": "93f262d0",
   "metadata": {},
   "outputs": [],
   "source": [
    "sale_df=pd.read_csv(r'C:\\Users\\MOTIRAM SINGH\\Desktop\\example file\\Dummy Data HSS.csv')"
   ]
  },
  {
   "cell_type": "code",
   "execution_count": 4,
   "id": "6c2d62b9",
   "metadata": {},
   "outputs": [
    {
     "data": {
      "text/plain": [
       "(4572, 5)"
      ]
     },
     "execution_count": 4,
     "metadata": {},
     "output_type": "execute_result"
    }
   ],
   "source": [
    "sale_df.shape"
   ]
  },
  {
   "cell_type": "code",
   "execution_count": 5,
   "id": "e3fc217b",
   "metadata": {},
   "outputs": [],
   "source": [
    "pd.set_option('display.max_rows',5000)"
   ]
  },
  {
   "cell_type": "code",
   "execution_count": 6,
   "id": "18573b9f",
   "metadata": {},
   "outputs": [
    {
     "data": {
      "text/html": [
       "<div>\n",
       "<style scoped>\n",
       "    .dataframe tbody tr th:only-of-type {\n",
       "        vertical-align: middle;\n",
       "    }\n",
       "\n",
       "    .dataframe tbody tr th {\n",
       "        vertical-align: top;\n",
       "    }\n",
       "\n",
       "    .dataframe thead th {\n",
       "        text-align: right;\n",
       "    }\n",
       "</style>\n",
       "<table border=\"1\" class=\"dataframe\">\n",
       "  <thead>\n",
       "    <tr style=\"text-align: right;\">\n",
       "      <th></th>\n",
       "      <th>TV</th>\n",
       "      <th>Radio</th>\n",
       "      <th>Social Media</th>\n",
       "      <th>Influencer</th>\n",
       "      <th>Sales</th>\n",
       "    </tr>\n",
       "  </thead>\n",
       "  <tbody>\n",
       "    <tr>\n",
       "      <th>0</th>\n",
       "      <td>16.0</td>\n",
       "      <td>6.566231</td>\n",
       "      <td>2.907983</td>\n",
       "      <td>Mega</td>\n",
       "      <td>54.732757</td>\n",
       "    </tr>\n",
       "    <tr>\n",
       "      <th>1</th>\n",
       "      <td>13.0</td>\n",
       "      <td>9.237765</td>\n",
       "      <td>2.409567</td>\n",
       "      <td>Mega</td>\n",
       "      <td>46.677897</td>\n",
       "    </tr>\n",
       "    <tr>\n",
       "      <th>2</th>\n",
       "      <td>41.0</td>\n",
       "      <td>15.886446</td>\n",
       "      <td>2.913410</td>\n",
       "      <td>Mega</td>\n",
       "      <td>150.177829</td>\n",
       "    </tr>\n",
       "    <tr>\n",
       "      <th>3</th>\n",
       "      <td>83.0</td>\n",
       "      <td>30.020028</td>\n",
       "      <td>6.922304</td>\n",
       "      <td>Mega</td>\n",
       "      <td>298.246340</td>\n",
       "    </tr>\n",
       "    <tr>\n",
       "      <th>4</th>\n",
       "      <td>15.0</td>\n",
       "      <td>8.437408</td>\n",
       "      <td>1.405998</td>\n",
       "      <td>Micro</td>\n",
       "      <td>56.594181</td>\n",
       "    </tr>\n",
       "    <tr>\n",
       "      <th>5</th>\n",
       "      <td>29.0</td>\n",
       "      <td>9.614382</td>\n",
       "      <td>1.027163</td>\n",
       "      <td>Mega</td>\n",
       "      <td>105.889148</td>\n",
       "    </tr>\n",
       "    <tr>\n",
       "      <th>6</th>\n",
       "      <td>55.0</td>\n",
       "      <td>24.893811</td>\n",
       "      <td>4.273602</td>\n",
       "      <td>Micro</td>\n",
       "      <td>198.679825</td>\n",
       "    </tr>\n",
       "    <tr>\n",
       "      <th>7</th>\n",
       "      <td>31.0</td>\n",
       "      <td>17.355042</td>\n",
       "      <td>2.289855</td>\n",
       "      <td>Nano</td>\n",
       "      <td>108.733932</td>\n",
       "    </tr>\n",
       "    <tr>\n",
       "      <th>8</th>\n",
       "      <td>76.0</td>\n",
       "      <td>24.648898</td>\n",
       "      <td>7.130116</td>\n",
       "      <td>Macro</td>\n",
       "      <td>270.189400</td>\n",
       "    </tr>\n",
       "    <tr>\n",
       "      <th>9</th>\n",
       "      <td>13.0</td>\n",
       "      <td>0.431128</td>\n",
       "      <td>2.229423</td>\n",
       "      <td>Mega</td>\n",
       "      <td>48.280582</td>\n",
       "    </tr>\n",
       "  </tbody>\n",
       "</table>\n",
       "</div>"
      ],
      "text/plain": [
       "     TV      Radio  Social Media Influencer       Sales\n",
       "0  16.0   6.566231      2.907983       Mega   54.732757\n",
       "1  13.0   9.237765      2.409567       Mega   46.677897\n",
       "2  41.0  15.886446      2.913410       Mega  150.177829\n",
       "3  83.0  30.020028      6.922304       Mega  298.246340\n",
       "4  15.0   8.437408      1.405998      Micro   56.594181\n",
       "5  29.0   9.614382      1.027163       Mega  105.889148\n",
       "6  55.0  24.893811      4.273602      Micro  198.679825\n",
       "7  31.0  17.355042      2.289855       Nano  108.733932\n",
       "8  76.0  24.648898      7.130116      Macro  270.189400\n",
       "9  13.0   0.431128      2.229423       Mega   48.280582"
      ]
     },
     "execution_count": 6,
     "metadata": {},
     "output_type": "execute_result"
    }
   ],
   "source": [
    "sale_df.head(10)\n",
    "# HERE ALL THE DIGITS ARE IN MILLION \n",
    "#THESE ARE BUDGET\n",
    "#INFLUENCER COLUMN IS THERE POPULARITY "
   ]
  },
  {
   "cell_type": "code",
   "execution_count": 7,
   "id": "cee7fe1c",
   "metadata": {},
   "outputs": [
    {
     "data": {
      "text/plain": [
       "Mega     1158\n",
       "Micro    1153\n",
       "Nano     1139\n",
       "Macro    1122\n",
       "Name: Influencer, dtype: int64"
      ]
     },
     "execution_count": 7,
     "metadata": {},
     "output_type": "execute_result"
    }
   ],
   "source": [
    "sale_df['Influencer'].value_counts()"
   ]
  },
  {
   "cell_type": "code",
   "execution_count": 8,
   "id": "34c95718",
   "metadata": {},
   "outputs": [],
   "source": [
    "sale1_df=sale_df.drop_duplicates()"
   ]
  },
  {
   "cell_type": "code",
   "execution_count": 9,
   "id": "f92d039c",
   "metadata": {},
   "outputs": [
    {
     "data": {
      "text/plain": [
       "(4572, 5)"
      ]
     },
     "execution_count": 9,
     "metadata": {},
     "output_type": "execute_result"
    }
   ],
   "source": [
    "sale1_df.shape"
   ]
  },
  {
   "cell_type": "code",
   "execution_count": 10,
   "id": "26646931",
   "metadata": {},
   "outputs": [
    {
     "data": {
      "text/plain": [
       "Index(['TV', 'Radio', 'Social Media', 'Influencer', 'Sales'], dtype='object')"
      ]
     },
     "execution_count": 10,
     "metadata": {},
     "output_type": "execute_result"
    }
   ],
   "source": [
    "sale1_df.columns"
   ]
  },
  {
   "cell_type": "code",
   "execution_count": 11,
   "id": "7957bdc5",
   "metadata": {},
   "outputs": [
    {
     "data": {
      "text/html": [
       "<div>\n",
       "<style scoped>\n",
       "    .dataframe tbody tr th:only-of-type {\n",
       "        vertical-align: middle;\n",
       "    }\n",
       "\n",
       "    .dataframe tbody tr th {\n",
       "        vertical-align: top;\n",
       "    }\n",
       "\n",
       "    .dataframe thead th {\n",
       "        text-align: right;\n",
       "    }\n",
       "</style>\n",
       "<table border=\"1\" class=\"dataframe\">\n",
       "  <thead>\n",
       "    <tr style=\"text-align: right;\">\n",
       "      <th></th>\n",
       "      <th>TV</th>\n",
       "      <th>Radio</th>\n",
       "      <th>Social Media</th>\n",
       "      <th>Sales</th>\n",
       "    </tr>\n",
       "  </thead>\n",
       "  <tbody>\n",
       "    <tr>\n",
       "      <th>count</th>\n",
       "      <td>4562.000000</td>\n",
       "      <td>4568.000000</td>\n",
       "      <td>4566.000000</td>\n",
       "      <td>4566.000000</td>\n",
       "    </tr>\n",
       "    <tr>\n",
       "      <th>mean</th>\n",
       "      <td>54.066857</td>\n",
       "      <td>18.160356</td>\n",
       "      <td>3.323956</td>\n",
       "      <td>192.466602</td>\n",
       "    </tr>\n",
       "    <tr>\n",
       "      <th>std</th>\n",
       "      <td>26.125054</td>\n",
       "      <td>9.676958</td>\n",
       "      <td>2.212670</td>\n",
       "      <td>93.133092</td>\n",
       "    </tr>\n",
       "    <tr>\n",
       "      <th>min</th>\n",
       "      <td>10.000000</td>\n",
       "      <td>0.000684</td>\n",
       "      <td>0.000031</td>\n",
       "      <td>31.199409</td>\n",
       "    </tr>\n",
       "    <tr>\n",
       "      <th>25%</th>\n",
       "      <td>32.000000</td>\n",
       "      <td>10.525957</td>\n",
       "      <td>1.527849</td>\n",
       "      <td>112.322882</td>\n",
       "    </tr>\n",
       "    <tr>\n",
       "      <th>50%</th>\n",
       "      <td>53.000000</td>\n",
       "      <td>17.859513</td>\n",
       "      <td>3.055565</td>\n",
       "      <td>189.231172</td>\n",
       "    </tr>\n",
       "    <tr>\n",
       "      <th>75%</th>\n",
       "      <td>77.000000</td>\n",
       "      <td>25.649730</td>\n",
       "      <td>4.807558</td>\n",
       "      <td>272.507922</td>\n",
       "    </tr>\n",
       "    <tr>\n",
       "      <th>max</th>\n",
       "      <td>100.000000</td>\n",
       "      <td>48.871161</td>\n",
       "      <td>13.981662</td>\n",
       "      <td>364.079751</td>\n",
       "    </tr>\n",
       "  </tbody>\n",
       "</table>\n",
       "</div>"
      ],
      "text/plain": [
       "                TV        Radio  Social Media        Sales\n",
       "count  4562.000000  4568.000000   4566.000000  4566.000000\n",
       "mean     54.066857    18.160356      3.323956   192.466602\n",
       "std      26.125054     9.676958      2.212670    93.133092\n",
       "min      10.000000     0.000684      0.000031    31.199409\n",
       "25%      32.000000    10.525957      1.527849   112.322882\n",
       "50%      53.000000    17.859513      3.055565   189.231172\n",
       "75%      77.000000    25.649730      4.807558   272.507922\n",
       "max     100.000000    48.871161     13.981662   364.079751"
      ]
     },
     "execution_count": 11,
     "metadata": {},
     "output_type": "execute_result"
    }
   ],
   "source": [
    "sale1_df.describe()"
   ]
  },
  {
   "cell_type": "code",
   "execution_count": 12,
   "id": "9b9afbe0",
   "metadata": {},
   "outputs": [
    {
     "name": "stdout",
     "output_type": "stream",
     "text": [
      "<class 'pandas.core.frame.DataFrame'>\n",
      "Int64Index: 4572 entries, 0 to 4571\n",
      "Data columns (total 5 columns):\n",
      " #   Column        Non-Null Count  Dtype  \n",
      "---  ------        --------------  -----  \n",
      " 0   TV            4562 non-null   float64\n",
      " 1   Radio         4568 non-null   float64\n",
      " 2   Social Media  4566 non-null   float64\n",
      " 3   Influencer    4572 non-null   object \n",
      " 4   Sales         4566 non-null   float64\n",
      "dtypes: float64(4), object(1)\n",
      "memory usage: 214.3+ KB\n"
     ]
    }
   ],
   "source": [
    "sale1_df.info()"
   ]
  },
  {
   "cell_type": "code",
   "execution_count": 13,
   "id": "c2423d06",
   "metadata": {},
   "outputs": [
    {
     "data": {
      "text/plain": [
       "TV              10\n",
       "Radio            4\n",
       "Social Media     6\n",
       "Influencer       0\n",
       "Sales            6\n",
       "dtype: int64"
      ]
     },
     "execution_count": 13,
     "metadata": {},
     "output_type": "execute_result"
    }
   ],
   "source": [
    "sale1_df.isna().sum()"
   ]
  },
  {
   "cell_type": "code",
   "execution_count": 14,
   "id": "8a24412f",
   "metadata": {},
   "outputs": [],
   "source": [
    "nacol=sale1_df.isna().any(axis=1)"
   ]
  },
  {
   "cell_type": "code",
   "execution_count": 15,
   "id": "ef04fe10",
   "metadata": {},
   "outputs": [
    {
     "data": {
      "text/plain": [
       "0     False\n",
       "1     False\n",
       "2     False\n",
       "3     False\n",
       "4     False\n",
       "5     False\n",
       "6     False\n",
       "7     False\n",
       "8     False\n",
       "9     False\n",
       "10    False\n",
       "11    False\n",
       "12    False\n",
       "13     True\n",
       "14    False\n",
       "15    False\n",
       "16    False\n",
       "17    False\n",
       "18    False\n",
       "19    False\n",
       "20    False\n",
       "21    False\n",
       "22    False\n",
       "23    False\n",
       "24    False\n",
       "25    False\n",
       "26     True\n",
       "27    False\n",
       "28    False\n",
       "29    False\n",
       "dtype: bool"
      ]
     },
     "execution_count": 15,
     "metadata": {},
     "output_type": "execute_result"
    }
   ],
   "source": [
    "nacol.head(30)"
   ]
  },
  {
   "cell_type": "code",
   "execution_count": 16,
   "id": "7c0aa650",
   "metadata": {},
   "outputs": [
    {
     "data": {
      "text/html": [
       "<div>\n",
       "<style scoped>\n",
       "    .dataframe tbody tr th:only-of-type {\n",
       "        vertical-align: middle;\n",
       "    }\n",
       "\n",
       "    .dataframe tbody tr th {\n",
       "        vertical-align: top;\n",
       "    }\n",
       "\n",
       "    .dataframe thead th {\n",
       "        text-align: right;\n",
       "    }\n",
       "</style>\n",
       "<table border=\"1\" class=\"dataframe\">\n",
       "  <thead>\n",
       "    <tr style=\"text-align: right;\">\n",
       "      <th></th>\n",
       "      <th>TV</th>\n",
       "      <th>Radio</th>\n",
       "      <th>Social Media</th>\n",
       "      <th>Influencer</th>\n",
       "      <th>Sales</th>\n",
       "    </tr>\n",
       "  </thead>\n",
       "  <tbody>\n",
       "    <tr>\n",
       "      <th>13</th>\n",
       "      <td>NaN</td>\n",
       "      <td>22.351667</td>\n",
       "      <td>3.031815</td>\n",
       "      <td>Mega</td>\n",
       "      <td>276.165351</td>\n",
       "    </tr>\n",
       "    <tr>\n",
       "      <th>26</th>\n",
       "      <td>NaN</td>\n",
       "      <td>34.111674</td>\n",
       "      <td>4.624148</td>\n",
       "      <td>Nano</td>\n",
       "      <td>342.913372</td>\n",
       "    </tr>\n",
       "    <tr>\n",
       "      <th>46</th>\n",
       "      <td>NaN</td>\n",
       "      <td>34.859637</td>\n",
       "      <td>7.781417</td>\n",
       "      <td>Mega</td>\n",
       "      <td>318.969784</td>\n",
       "    </tr>\n",
       "    <tr>\n",
       "      <th>75</th>\n",
       "      <td>NaN</td>\n",
       "      <td>6.482293</td>\n",
       "      <td>0.866845</td>\n",
       "      <td>Macro</td>\n",
       "      <td>91.177216</td>\n",
       "    </tr>\n",
       "    <tr>\n",
       "      <th>99</th>\n",
       "      <td>NaN</td>\n",
       "      <td>7.635819</td>\n",
       "      <td>1.554146</td>\n",
       "      <td>Macro</td>\n",
       "      <td>56.186730</td>\n",
       "    </tr>\n",
       "    <tr>\n",
       "      <th>119</th>\n",
       "      <td>NaN</td>\n",
       "      <td>30.470485</td>\n",
       "      <td>6.806919</td>\n",
       "      <td>Micro</td>\n",
       "      <td>336.818690</td>\n",
       "    </tr>\n",
       "    <tr>\n",
       "      <th>141</th>\n",
       "      <td>NaN</td>\n",
       "      <td>9.164464</td>\n",
       "      <td>1.096681</td>\n",
       "      <td>Macro</td>\n",
       "      <td>65.259189</td>\n",
       "    </tr>\n",
       "    <tr>\n",
       "      <th>163</th>\n",
       "      <td>NaN</td>\n",
       "      <td>38.118424</td>\n",
       "      <td>6.676611</td>\n",
       "      <td>Micro</td>\n",
       "      <td>328.555184</td>\n",
       "    </tr>\n",
       "    <tr>\n",
       "      <th>182</th>\n",
       "      <td>81.0</td>\n",
       "      <td>26.425422</td>\n",
       "      <td>NaN</td>\n",
       "      <td>Macro</td>\n",
       "      <td>288.649441</td>\n",
       "    </tr>\n",
       "    <tr>\n",
       "      <th>183</th>\n",
       "      <td>NaN</td>\n",
       "      <td>1.287060</td>\n",
       "      <td>0.396179</td>\n",
       "      <td>Macro</td>\n",
       "      <td>56.545293</td>\n",
       "    </tr>\n",
       "    <tr>\n",
       "      <th>184</th>\n",
       "      <td>25.0</td>\n",
       "      <td>0.413849</td>\n",
       "      <td>NaN</td>\n",
       "      <td>Macro</td>\n",
       "      <td>92.357092</td>\n",
       "    </tr>\n",
       "    <tr>\n",
       "      <th>186</th>\n",
       "      <td>73.0</td>\n",
       "      <td>25.340209</td>\n",
       "      <td>NaN</td>\n",
       "      <td>Mega</td>\n",
       "      <td>258.358969</td>\n",
       "    </tr>\n",
       "    <tr>\n",
       "      <th>189</th>\n",
       "      <td>89.0</td>\n",
       "      <td>29.682384</td>\n",
       "      <td>NaN</td>\n",
       "      <td>Macro</td>\n",
       "      <td>320.264397</td>\n",
       "    </tr>\n",
       "    <tr>\n",
       "      <th>192</th>\n",
       "      <td>41.0</td>\n",
       "      <td>13.142657</td>\n",
       "      <td>NaN</td>\n",
       "      <td>Nano</td>\n",
       "      <td>142.626865</td>\n",
       "    </tr>\n",
       "    <tr>\n",
       "      <th>195</th>\n",
       "      <td>34.0</td>\n",
       "      <td>12.660398</td>\n",
       "      <td>NaN</td>\n",
       "      <td>Mega</td>\n",
       "      <td>117.114141</td>\n",
       "    </tr>\n",
       "    <tr>\n",
       "      <th>197</th>\n",
       "      <td>98.0</td>\n",
       "      <td>NaN</td>\n",
       "      <td>6.399730</td>\n",
       "      <td>Nano</td>\n",
       "      <td>345.952838</td>\n",
       "    </tr>\n",
       "    <tr>\n",
       "      <th>200</th>\n",
       "      <td>89.0</td>\n",
       "      <td>NaN</td>\n",
       "      <td>4.535458</td>\n",
       "      <td>Micro</td>\n",
       "      <td>316.725624</td>\n",
       "    </tr>\n",
       "    <tr>\n",
       "      <th>203</th>\n",
       "      <td>22.0</td>\n",
       "      <td>NaN</td>\n",
       "      <td>4.132526</td>\n",
       "      <td>Macro</td>\n",
       "      <td>78.031498</td>\n",
       "    </tr>\n",
       "    <tr>\n",
       "      <th>206</th>\n",
       "      <td>12.0</td>\n",
       "      <td>NaN</td>\n",
       "      <td>1.230026</td>\n",
       "      <td>Micro</td>\n",
       "      <td>50.009210</td>\n",
       "    </tr>\n",
       "    <tr>\n",
       "      <th>208</th>\n",
       "      <td>77.0</td>\n",
       "      <td>25.598379</td>\n",
       "      <td>5.514787</td>\n",
       "      <td>Nano</td>\n",
       "      <td>NaN</td>\n",
       "    </tr>\n",
       "    <tr>\n",
       "      <th>210</th>\n",
       "      <td>NaN</td>\n",
       "      <td>17.007075</td>\n",
       "      <td>5.199635</td>\n",
       "      <td>Macro</td>\n",
       "      <td>208.816382</td>\n",
       "    </tr>\n",
       "    <tr>\n",
       "      <th>214</th>\n",
       "      <td>100.0</td>\n",
       "      <td>36.466753</td>\n",
       "      <td>5.635992</td>\n",
       "      <td>Mega</td>\n",
       "      <td>NaN</td>\n",
       "    </tr>\n",
       "    <tr>\n",
       "      <th>221</th>\n",
       "      <td>74.0</td>\n",
       "      <td>24.220634</td>\n",
       "      <td>0.285898</td>\n",
       "      <td>Micro</td>\n",
       "      <td>NaN</td>\n",
       "    </tr>\n",
       "    <tr>\n",
       "      <th>226</th>\n",
       "      <td>19.0</td>\n",
       "      <td>8.726783</td>\n",
       "      <td>0.497838</td>\n",
       "      <td>Mega</td>\n",
       "      <td>NaN</td>\n",
       "    </tr>\n",
       "    <tr>\n",
       "      <th>231</th>\n",
       "      <td>22.0</td>\n",
       "      <td>6.809752</td>\n",
       "      <td>0.011451</td>\n",
       "      <td>Macro</td>\n",
       "      <td>NaN</td>\n",
       "    </tr>\n",
       "    <tr>\n",
       "      <th>236</th>\n",
       "      <td>27.0</td>\n",
       "      <td>1.384415</td>\n",
       "      <td>2.398129</td>\n",
       "      <td>Nano</td>\n",
       "      <td>NaN</td>\n",
       "    </tr>\n",
       "  </tbody>\n",
       "</table>\n",
       "</div>"
      ],
      "text/plain": [
       "        TV      Radio  Social Media Influencer       Sales\n",
       "13     NaN  22.351667      3.031815       Mega  276.165351\n",
       "26     NaN  34.111674      4.624148       Nano  342.913372\n",
       "46     NaN  34.859637      7.781417       Mega  318.969784\n",
       "75     NaN   6.482293      0.866845      Macro   91.177216\n",
       "99     NaN   7.635819      1.554146      Macro   56.186730\n",
       "119    NaN  30.470485      6.806919      Micro  336.818690\n",
       "141    NaN   9.164464      1.096681      Macro   65.259189\n",
       "163    NaN  38.118424      6.676611      Micro  328.555184\n",
       "182   81.0  26.425422           NaN      Macro  288.649441\n",
       "183    NaN   1.287060      0.396179      Macro   56.545293\n",
       "184   25.0   0.413849           NaN      Macro   92.357092\n",
       "186   73.0  25.340209           NaN       Mega  258.358969\n",
       "189   89.0  29.682384           NaN      Macro  320.264397\n",
       "192   41.0  13.142657           NaN       Nano  142.626865\n",
       "195   34.0  12.660398           NaN       Mega  117.114141\n",
       "197   98.0        NaN      6.399730       Nano  345.952838\n",
       "200   89.0        NaN      4.535458      Micro  316.725624\n",
       "203   22.0        NaN      4.132526      Macro   78.031498\n",
       "206   12.0        NaN      1.230026      Micro   50.009210\n",
       "208   77.0  25.598379      5.514787       Nano         NaN\n",
       "210    NaN  17.007075      5.199635      Macro  208.816382\n",
       "214  100.0  36.466753      5.635992       Mega         NaN\n",
       "221   74.0  24.220634      0.285898      Micro         NaN\n",
       "226   19.0   8.726783      0.497838       Mega         NaN\n",
       "231   22.0   6.809752      0.011451      Macro         NaN\n",
       "236   27.0   1.384415      2.398129       Nano         NaN"
      ]
     },
     "execution_count": 16,
     "metadata": {},
     "output_type": "execute_result"
    }
   ],
   "source": [
    "sale1_df[sale1_df.isna().any(axis=1)]"
   ]
  },
  {
   "cell_type": "code",
   "execution_count": 17,
   "id": "066e5ca7",
   "metadata": {},
   "outputs": [
    {
     "data": {
      "text/html": [
       "<div>\n",
       "<style scoped>\n",
       "    .dataframe tbody tr th:only-of-type {\n",
       "        vertical-align: middle;\n",
       "    }\n",
       "\n",
       "    .dataframe tbody tr th {\n",
       "        vertical-align: top;\n",
       "    }\n",
       "\n",
       "    .dataframe thead th {\n",
       "        text-align: right;\n",
       "    }\n",
       "</style>\n",
       "<table border=\"1\" class=\"dataframe\">\n",
       "  <thead>\n",
       "    <tr style=\"text-align: right;\">\n",
       "      <th></th>\n",
       "      <th>TV</th>\n",
       "      <th>Radio</th>\n",
       "      <th>Social Media</th>\n",
       "      <th>Influencer</th>\n",
       "      <th>Sales</th>\n",
       "    </tr>\n",
       "  </thead>\n",
       "  <tbody>\n",
       "    <tr>\n",
       "      <th>13</th>\n",
       "      <td>NaN</td>\n",
       "      <td>22.351667</td>\n",
       "      <td>3.031815</td>\n",
       "      <td>Mega</td>\n",
       "      <td>276.165351</td>\n",
       "    </tr>\n",
       "    <tr>\n",
       "      <th>26</th>\n",
       "      <td>NaN</td>\n",
       "      <td>34.111674</td>\n",
       "      <td>4.624148</td>\n",
       "      <td>Nano</td>\n",
       "      <td>342.913372</td>\n",
       "    </tr>\n",
       "    <tr>\n",
       "      <th>46</th>\n",
       "      <td>NaN</td>\n",
       "      <td>34.859637</td>\n",
       "      <td>7.781417</td>\n",
       "      <td>Mega</td>\n",
       "      <td>318.969784</td>\n",
       "    </tr>\n",
       "    <tr>\n",
       "      <th>75</th>\n",
       "      <td>NaN</td>\n",
       "      <td>6.482293</td>\n",
       "      <td>0.866845</td>\n",
       "      <td>Macro</td>\n",
       "      <td>91.177216</td>\n",
       "    </tr>\n",
       "    <tr>\n",
       "      <th>99</th>\n",
       "      <td>NaN</td>\n",
       "      <td>7.635819</td>\n",
       "      <td>1.554146</td>\n",
       "      <td>Macro</td>\n",
       "      <td>56.186730</td>\n",
       "    </tr>\n",
       "    <tr>\n",
       "      <th>119</th>\n",
       "      <td>NaN</td>\n",
       "      <td>30.470485</td>\n",
       "      <td>6.806919</td>\n",
       "      <td>Micro</td>\n",
       "      <td>336.818690</td>\n",
       "    </tr>\n",
       "    <tr>\n",
       "      <th>141</th>\n",
       "      <td>NaN</td>\n",
       "      <td>9.164464</td>\n",
       "      <td>1.096681</td>\n",
       "      <td>Macro</td>\n",
       "      <td>65.259189</td>\n",
       "    </tr>\n",
       "    <tr>\n",
       "      <th>163</th>\n",
       "      <td>NaN</td>\n",
       "      <td>38.118424</td>\n",
       "      <td>6.676611</td>\n",
       "      <td>Micro</td>\n",
       "      <td>328.555184</td>\n",
       "    </tr>\n",
       "    <tr>\n",
       "      <th>183</th>\n",
       "      <td>NaN</td>\n",
       "      <td>1.287060</td>\n",
       "      <td>0.396179</td>\n",
       "      <td>Macro</td>\n",
       "      <td>56.545293</td>\n",
       "    </tr>\n",
       "    <tr>\n",
       "      <th>210</th>\n",
       "      <td>NaN</td>\n",
       "      <td>17.007075</td>\n",
       "      <td>5.199635</td>\n",
       "      <td>Macro</td>\n",
       "      <td>208.816382</td>\n",
       "    </tr>\n",
       "  </tbody>\n",
       "</table>\n",
       "</div>"
      ],
      "text/plain": [
       "     TV      Radio  Social Media Influencer       Sales\n",
       "13  NaN  22.351667      3.031815       Mega  276.165351\n",
       "26  NaN  34.111674      4.624148       Nano  342.913372\n",
       "46  NaN  34.859637      7.781417       Mega  318.969784\n",
       "75  NaN   6.482293      0.866845      Macro   91.177216\n",
       "99  NaN   7.635819      1.554146      Macro   56.186730\n",
       "119 NaN  30.470485      6.806919      Micro  336.818690\n",
       "141 NaN   9.164464      1.096681      Macro   65.259189\n",
       "163 NaN  38.118424      6.676611      Micro  328.555184\n",
       "183 NaN   1.287060      0.396179      Macro   56.545293\n",
       "210 NaN  17.007075      5.199635      Macro  208.816382"
      ]
     },
     "execution_count": 17,
     "metadata": {},
     "output_type": "execute_result"
    }
   ],
   "source": [
    "sale1_df[sale1_df['TV'].isna()]"
   ]
  },
  {
   "cell_type": "code",
   "execution_count": 18,
   "id": "aa0c9ff1",
   "metadata": {},
   "outputs": [
    {
     "data": {
      "text/html": [
       "<div>\n",
       "<style scoped>\n",
       "    .dataframe tbody tr th:only-of-type {\n",
       "        vertical-align: middle;\n",
       "    }\n",
       "\n",
       "    .dataframe tbody tr th {\n",
       "        vertical-align: top;\n",
       "    }\n",
       "\n",
       "    .dataframe thead th {\n",
       "        text-align: right;\n",
       "    }\n",
       "</style>\n",
       "<table border=\"1\" class=\"dataframe\">\n",
       "  <thead>\n",
       "    <tr style=\"text-align: right;\">\n",
       "      <th></th>\n",
       "      <th>TV</th>\n",
       "      <th>Radio</th>\n",
       "      <th>Social Media</th>\n",
       "      <th>Influencer</th>\n",
       "      <th>Sales</th>\n",
       "    </tr>\n",
       "  </thead>\n",
       "  <tbody>\n",
       "    <tr>\n",
       "      <th>197</th>\n",
       "      <td>98.0</td>\n",
       "      <td>NaN</td>\n",
       "      <td>6.399730</td>\n",
       "      <td>Nano</td>\n",
       "      <td>345.952838</td>\n",
       "    </tr>\n",
       "    <tr>\n",
       "      <th>200</th>\n",
       "      <td>89.0</td>\n",
       "      <td>NaN</td>\n",
       "      <td>4.535458</td>\n",
       "      <td>Micro</td>\n",
       "      <td>316.725624</td>\n",
       "    </tr>\n",
       "    <tr>\n",
       "      <th>203</th>\n",
       "      <td>22.0</td>\n",
       "      <td>NaN</td>\n",
       "      <td>4.132526</td>\n",
       "      <td>Macro</td>\n",
       "      <td>78.031498</td>\n",
       "    </tr>\n",
       "    <tr>\n",
       "      <th>206</th>\n",
       "      <td>12.0</td>\n",
       "      <td>NaN</td>\n",
       "      <td>1.230026</td>\n",
       "      <td>Micro</td>\n",
       "      <td>50.009210</td>\n",
       "    </tr>\n",
       "  </tbody>\n",
       "</table>\n",
       "</div>"
      ],
      "text/plain": [
       "       TV  Radio  Social Media Influencer       Sales\n",
       "197  98.0    NaN      6.399730       Nano  345.952838\n",
       "200  89.0    NaN      4.535458      Micro  316.725624\n",
       "203  22.0    NaN      4.132526      Macro   78.031498\n",
       "206  12.0    NaN      1.230026      Micro   50.009210"
      ]
     },
     "execution_count": 18,
     "metadata": {},
     "output_type": "execute_result"
    }
   ],
   "source": [
    "sale1_df[sale1_df['Radio'].isna()]"
   ]
  },
  {
   "cell_type": "code",
   "execution_count": 19,
   "id": "5d303d2e",
   "metadata": {},
   "outputs": [
    {
     "data": {
      "text/html": [
       "<div>\n",
       "<style scoped>\n",
       "    .dataframe tbody tr th:only-of-type {\n",
       "        vertical-align: middle;\n",
       "    }\n",
       "\n",
       "    .dataframe tbody tr th {\n",
       "        vertical-align: top;\n",
       "    }\n",
       "\n",
       "    .dataframe thead th {\n",
       "        text-align: right;\n",
       "    }\n",
       "</style>\n",
       "<table border=\"1\" class=\"dataframe\">\n",
       "  <thead>\n",
       "    <tr style=\"text-align: right;\">\n",
       "      <th></th>\n",
       "      <th>TV</th>\n",
       "      <th>Radio</th>\n",
       "      <th>Social Media</th>\n",
       "      <th>Influencer</th>\n",
       "      <th>Sales</th>\n",
       "    </tr>\n",
       "  </thead>\n",
       "  <tbody>\n",
       "    <tr>\n",
       "      <th>182</th>\n",
       "      <td>81.0</td>\n",
       "      <td>26.425422</td>\n",
       "      <td>NaN</td>\n",
       "      <td>Macro</td>\n",
       "      <td>288.649441</td>\n",
       "    </tr>\n",
       "    <tr>\n",
       "      <th>184</th>\n",
       "      <td>25.0</td>\n",
       "      <td>0.413849</td>\n",
       "      <td>NaN</td>\n",
       "      <td>Macro</td>\n",
       "      <td>92.357092</td>\n",
       "    </tr>\n",
       "    <tr>\n",
       "      <th>186</th>\n",
       "      <td>73.0</td>\n",
       "      <td>25.340209</td>\n",
       "      <td>NaN</td>\n",
       "      <td>Mega</td>\n",
       "      <td>258.358969</td>\n",
       "    </tr>\n",
       "    <tr>\n",
       "      <th>189</th>\n",
       "      <td>89.0</td>\n",
       "      <td>29.682384</td>\n",
       "      <td>NaN</td>\n",
       "      <td>Macro</td>\n",
       "      <td>320.264397</td>\n",
       "    </tr>\n",
       "    <tr>\n",
       "      <th>192</th>\n",
       "      <td>41.0</td>\n",
       "      <td>13.142657</td>\n",
       "      <td>NaN</td>\n",
       "      <td>Nano</td>\n",
       "      <td>142.626865</td>\n",
       "    </tr>\n",
       "    <tr>\n",
       "      <th>195</th>\n",
       "      <td>34.0</td>\n",
       "      <td>12.660398</td>\n",
       "      <td>NaN</td>\n",
       "      <td>Mega</td>\n",
       "      <td>117.114141</td>\n",
       "    </tr>\n",
       "  </tbody>\n",
       "</table>\n",
       "</div>"
      ],
      "text/plain": [
       "       TV      Radio  Social Media Influencer       Sales\n",
       "182  81.0  26.425422           NaN      Macro  288.649441\n",
       "184  25.0   0.413849           NaN      Macro   92.357092\n",
       "186  73.0  25.340209           NaN       Mega  258.358969\n",
       "189  89.0  29.682384           NaN      Macro  320.264397\n",
       "192  41.0  13.142657           NaN       Nano  142.626865\n",
       "195  34.0  12.660398           NaN       Mega  117.114141"
      ]
     },
     "execution_count": 19,
     "metadata": {},
     "output_type": "execute_result"
    }
   ],
   "source": [
    "sale1_df[sale1_df['Social Media'].isna()]"
   ]
  },
  {
   "cell_type": "code",
   "execution_count": 20,
   "id": "01550670",
   "metadata": {},
   "outputs": [
    {
     "data": {
      "text/html": [
       "<div>\n",
       "<style scoped>\n",
       "    .dataframe tbody tr th:only-of-type {\n",
       "        vertical-align: middle;\n",
       "    }\n",
       "\n",
       "    .dataframe tbody tr th {\n",
       "        vertical-align: top;\n",
       "    }\n",
       "\n",
       "    .dataframe thead th {\n",
       "        text-align: right;\n",
       "    }\n",
       "</style>\n",
       "<table border=\"1\" class=\"dataframe\">\n",
       "  <thead>\n",
       "    <tr style=\"text-align: right;\">\n",
       "      <th></th>\n",
       "      <th>TV</th>\n",
       "      <th>Radio</th>\n",
       "      <th>Social Media</th>\n",
       "      <th>Influencer</th>\n",
       "      <th>Sales</th>\n",
       "    </tr>\n",
       "  </thead>\n",
       "  <tbody>\n",
       "  </tbody>\n",
       "</table>\n",
       "</div>"
      ],
      "text/plain": [
       "Empty DataFrame\n",
       "Columns: [TV, Radio, Social Media, Influencer, Sales]\n",
       "Index: []"
      ]
     },
     "execution_count": 20,
     "metadata": {},
     "output_type": "execute_result"
    }
   ],
   "source": [
    "sale1_df[sale1_df['Influencer'].isna()]"
   ]
  },
  {
   "cell_type": "code",
   "execution_count": 21,
   "id": "42445ebb",
   "metadata": {},
   "outputs": [
    {
     "data": {
      "text/html": [
       "<div>\n",
       "<style scoped>\n",
       "    .dataframe tbody tr th:only-of-type {\n",
       "        vertical-align: middle;\n",
       "    }\n",
       "\n",
       "    .dataframe tbody tr th {\n",
       "        vertical-align: top;\n",
       "    }\n",
       "\n",
       "    .dataframe thead th {\n",
       "        text-align: right;\n",
       "    }\n",
       "</style>\n",
       "<table border=\"1\" class=\"dataframe\">\n",
       "  <thead>\n",
       "    <tr style=\"text-align: right;\">\n",
       "      <th></th>\n",
       "      <th>TV</th>\n",
       "      <th>Radio</th>\n",
       "      <th>Social Media</th>\n",
       "      <th>Influencer</th>\n",
       "      <th>Sales</th>\n",
       "    </tr>\n",
       "  </thead>\n",
       "  <tbody>\n",
       "    <tr>\n",
       "      <th>208</th>\n",
       "      <td>77.0</td>\n",
       "      <td>25.598379</td>\n",
       "      <td>5.514787</td>\n",
       "      <td>Nano</td>\n",
       "      <td>NaN</td>\n",
       "    </tr>\n",
       "    <tr>\n",
       "      <th>214</th>\n",
       "      <td>100.0</td>\n",
       "      <td>36.466753</td>\n",
       "      <td>5.635992</td>\n",
       "      <td>Mega</td>\n",
       "      <td>NaN</td>\n",
       "    </tr>\n",
       "    <tr>\n",
       "      <th>221</th>\n",
       "      <td>74.0</td>\n",
       "      <td>24.220634</td>\n",
       "      <td>0.285898</td>\n",
       "      <td>Micro</td>\n",
       "      <td>NaN</td>\n",
       "    </tr>\n",
       "    <tr>\n",
       "      <th>226</th>\n",
       "      <td>19.0</td>\n",
       "      <td>8.726783</td>\n",
       "      <td>0.497838</td>\n",
       "      <td>Mega</td>\n",
       "      <td>NaN</td>\n",
       "    </tr>\n",
       "    <tr>\n",
       "      <th>231</th>\n",
       "      <td>22.0</td>\n",
       "      <td>6.809752</td>\n",
       "      <td>0.011451</td>\n",
       "      <td>Macro</td>\n",
       "      <td>NaN</td>\n",
       "    </tr>\n",
       "    <tr>\n",
       "      <th>236</th>\n",
       "      <td>27.0</td>\n",
       "      <td>1.384415</td>\n",
       "      <td>2.398129</td>\n",
       "      <td>Nano</td>\n",
       "      <td>NaN</td>\n",
       "    </tr>\n",
       "  </tbody>\n",
       "</table>\n",
       "</div>"
      ],
      "text/plain": [
       "        TV      Radio  Social Media Influencer  Sales\n",
       "208   77.0  25.598379      5.514787       Nano    NaN\n",
       "214  100.0  36.466753      5.635992       Mega    NaN\n",
       "221   74.0  24.220634      0.285898      Micro    NaN\n",
       "226   19.0   8.726783      0.497838       Mega    NaN\n",
       "231   22.0   6.809752      0.011451      Macro    NaN\n",
       "236   27.0   1.384415      2.398129       Nano    NaN"
      ]
     },
     "execution_count": 21,
     "metadata": {},
     "output_type": "execute_result"
    }
   ],
   "source": [
    "sale1_df[sale1_df['Sales'].isna()]"
   ]
  },
  {
   "cell_type": "code",
   "execution_count": 22,
   "id": "3d53ce42",
   "metadata": {},
   "outputs": [
    {
     "data": {
      "text/plain": [
       "TV               0\n",
       "Radio           10\n",
       "Social Media    10\n",
       "Influencer      10\n",
       "Sales           10\n",
       "dtype: int64"
      ]
     },
     "execution_count": 22,
     "metadata": {},
     "output_type": "execute_result"
    }
   ],
   "source": [
    "sale1_df[sale1_df['TV'].isna()].count()"
   ]
  },
  {
   "cell_type": "code",
   "execution_count": 23,
   "id": "4458c576",
   "metadata": {},
   "outputs": [
    {
     "data": {
      "text/plain": [
       "TV              4\n",
       "Radio           0\n",
       "Social Media    4\n",
       "Influencer      4\n",
       "Sales           4\n",
       "dtype: int64"
      ]
     },
     "execution_count": 23,
     "metadata": {},
     "output_type": "execute_result"
    }
   ],
   "source": [
    "sale1_df[sale1_df['Radio'].isna()].count()"
   ]
  },
  {
   "cell_type": "code",
   "execution_count": 24,
   "id": "ff5ededc",
   "metadata": {},
   "outputs": [
    {
     "data": {
      "text/plain": [
       "TV              6\n",
       "Radio           6\n",
       "Social Media    0\n",
       "Influencer      6\n",
       "Sales           6\n",
       "dtype: int64"
      ]
     },
     "execution_count": 24,
     "metadata": {},
     "output_type": "execute_result"
    }
   ],
   "source": [
    "sale1_df[sale1_df['Social Media'].isna()].count()"
   ]
  },
  {
   "cell_type": "code",
   "execution_count": 25,
   "id": "d81c59e4",
   "metadata": {},
   "outputs": [
    {
     "data": {
      "text/plain": [
       "TV              6\n",
       "Radio           6\n",
       "Social Media    6\n",
       "Influencer      6\n",
       "Sales           0\n",
       "dtype: int64"
      ]
     },
     "execution_count": 25,
     "metadata": {},
     "output_type": "execute_result"
    }
   ],
   "source": [
    "sale1_df[sale1_df['Sales'].isna()].count()"
   ]
  },
  {
   "cell_type": "code",
   "execution_count": 26,
   "id": "15cdbfd4",
   "metadata": {},
   "outputs": [
    {
     "data": {
      "image/png": "[encoded data removed]",
      "text/plain": [
       "<Figure size 640x480 with 1 Axes>"
      ]
     },
     "metadata": {},
     "output_type": "display_data"
    }
   ],
   "source": [
    "sale1_df['Sales'].plot()\n",
    "plt.show()"
   ]
  },
  {
   "cell_type": "code",
   "execution_count": 27,
   "id": "10641b62",
   "metadata": {},
   "outputs": [
    {
     "data": {
      "text/plain": [
       "<AxesSubplot:ylabel='Density'>"
      ]
     },
     "execution_count": 27,
     "metadata": {},
     "output_type": "execute_result"
    },
    {
     "data": {
      "image/png": "[encoded data removed]",
      "text/plain": [
       "<Figure size 640x480 with 1 Axes>"
      ]
     },
     "metadata": {},
     "output_type": "display_data"
    }
   ],
   "source": [
    "sale1_df['Sales'].plot.kde()"
   ]
  },
  {
   "cell_type": "code",
   "execution_count": 28,
   "id": "3f165d7e",
   "metadata": {},
   "outputs": [
    {
     "data": {
      "text/plain": [
       "<AxesSubplot:ylabel='Density'>"
      ]
     },
     "execution_count": 28,
     "metadata": {},
     "output_type": "execute_result"
    },
    {
     "data": {
      "image/png": "[encoded data removed]",
      "text/plain": [
       "<Figure size 640x480 with 1 Axes>"
      ]
     },
     "metadata": {},
     "output_type": "display_data"
    }
   ],
   "source": [
    "sale1_df['TV'].plot.kde()"
   ]
  },
  {
   "cell_type": "code",
   "execution_count": 29,
   "id": "760d752b",
   "metadata": {},
   "outputs": [
    {
     "data": {
      "text/plain": [
       "<AxesSubplot:ylabel='Density'>"
      ]
     },
     "execution_count": 29,
     "metadata": {},
     "output_type": "execute_result"
    },
    {
     "data": {
      "image/png": "[encoded data removed]",
      "text/plain": [
       "<Figure size 640x480 with 1 Axes>"
      ]
     },
     "metadata": {},
     "output_type": "display_data"
    }
   ],
   "source": [
    "sale1_df['Radio'].plot.kde()"
   ]
  },
  {
   "cell_type": "code",
   "execution_count": 30,
   "id": "3ee97c8f",
   "metadata": {},
   "outputs": [
    {
     "data": {
      "text/plain": [
       "<AxesSubplot:ylabel='Density'>"
      ]
     },
     "execution_count": 30,
     "metadata": {},
     "output_type": "execute_result"
    },
    {
     "data": {
      "image/png": "[encoded data removed]",
      "text/plain": [
       "<Figure size 640x480 with 1 Axes>"
      ]
     },
     "metadata": {},
     "output_type": "display_data"
    }
   ],
   "source": [
    "sale1_df['Social Media'].plot.kde()"
   ]
  },
  {
   "cell_type": "code",
   "execution_count": 31,
   "id": "27b76275",
   "metadata": {},
   "outputs": [
    {
     "data": {
      "text/plain": [
       "Index(['TV', 'Radio', 'Social Media', 'Influencer', 'Sales'], dtype='object')"
      ]
     },
     "execution_count": 31,
     "metadata": {},
     "output_type": "execute_result"
    }
   ],
   "source": [
    "sale1_df.columns"
   ]
  },
  {
   "cell_type": "code",
   "execution_count": 32,
   "id": "86b50267",
   "metadata": {},
   "outputs": [
    {
     "data": {
      "text/plain": [
       "53.0"
      ]
     },
     "execution_count": 32,
     "metadata": {},
     "output_type": "execute_result"
    }
   ],
   "source": [
    "medtv=sale1_df['TV'].median()\n",
    "medtv"
   ]
  },
  {
   "cell_type": "code",
   "execution_count": 33,
   "id": "9a8e2739",
   "metadata": {},
   "outputs": [
    {
     "data": {
      "text/plain": [
       "17.85951293"
      ]
     },
     "execution_count": 33,
     "metadata": {},
     "output_type": "execute_result"
    }
   ],
   "source": [
    "medred=sale1_df['Radio'].median()\n",
    "medred"
   ]
  },
  {
   "cell_type": "code",
   "execution_count": 34,
   "id": "207f3aa9",
   "metadata": {},
   "outputs": [
    {
     "data": {
      "text/plain": [
       "3.055565435"
      ]
     },
     "execution_count": 34,
     "metadata": {},
     "output_type": "execute_result"
    }
   ],
   "source": [
    "medsoc=sale1_df['Social Media'].median()\n",
    "medsoc"
   ]
  },
  {
   "cell_type": "code",
   "execution_count": 35,
   "id": "20cf713c",
   "metadata": {},
   "outputs": [
    {
     "data": {
      "text/plain": [
       "189.23117235"
      ]
     },
     "execution_count": 35,
     "metadata": {},
     "output_type": "execute_result"
    }
   ],
   "source": [
    "medsale=sale1_df['Sales'].median()\n",
    "medsale"
   ]
  },
  {
   "cell_type": "code",
   "execution_count": 36,
   "id": "0241da71",
   "metadata": {},
   "outputs": [],
   "source": [
    "sale1_df['TV'].fillna(medtv,inplace=True)"
   ]
  },
  {
   "cell_type": "code",
   "execution_count": 37,
   "id": "064d3376",
   "metadata": {},
   "outputs": [],
   "source": [
    "sale1_df['Radio'].fillna(medtv,inplace=True)\n",
    "sale1_df['Social Media'].fillna(medtv,inplace=True)\n",
    "sale1_df['Sales'].fillna(medtv,inplace=True)"
   ]
  },
  {
   "cell_type": "code",
   "execution_count": 38,
   "id": "c9ac403a",
   "metadata": {},
   "outputs": [
    {
     "data": {
      "text/plain": [
       "TV              0\n",
       "Radio           0\n",
       "Social Media    0\n",
       "Influencer      0\n",
       "Sales           0\n",
       "dtype: int64"
      ]
     },
     "execution_count": 38,
     "metadata": {},
     "output_type": "execute_result"
    }
   ],
   "source": [
    "sale1_df.isna().sum()"
   ]
  },
  {
   "cell_type": "code",
   "execution_count": 39,
   "id": "669a393e",
   "metadata": {},
   "outputs": [
    {
     "data": {
      "image/png": "[encoded data removed]",
      "text/plain": [
       "<Figure size 640x480 with 1 Axes>"
      ]
     },
     "metadata": {},
     "output_type": "display_data"
    }
   ],
   "source": [
    "plt.boxplot(sale_df['Sales'])\n",
    "plt.ylabel('Sales')\n",
    "plt.title('Box Plot of Sales')\n",
    "plt.show()\n",
    "#then it can be a range issue"
   ]
  },
  {
   "cell_type": "code",
   "execution_count": 40,
   "id": "fd9ef616",
   "metadata": {},
   "outputs": [],
   "source": [
    "sale2=sale1_df.copy(deep=True)"
   ]
  },
  {
   "cell_type": "code",
   "execution_count": 41,
   "id": "360bd9db",
   "metadata": {},
   "outputs": [
    {
     "data": {
      "text/html": [
       "<div>\n",
       "<style scoped>\n",
       "    .dataframe tbody tr th:only-of-type {\n",
       "        vertical-align: middle;\n",
       "    }\n",
       "\n",
       "    .dataframe tbody tr th {\n",
       "        vertical-align: top;\n",
       "    }\n",
       "\n",
       "    .dataframe thead th {\n",
       "        text-align: right;\n",
       "    }\n",
       "</style>\n",
       "<table border=\"1\" class=\"dataframe\">\n",
       "  <thead>\n",
       "    <tr style=\"text-align: right;\">\n",
       "      <th></th>\n",
       "      <th>TV</th>\n",
       "      <th>Radio</th>\n",
       "      <th>Social Media</th>\n",
       "      <th>Influencer</th>\n",
       "      <th>Sales</th>\n",
       "    </tr>\n",
       "  </thead>\n",
       "  <tbody>\n",
       "    <tr>\n",
       "      <th>0</th>\n",
       "      <td>16.0</td>\n",
       "      <td>6.566231</td>\n",
       "      <td>2.907983</td>\n",
       "      <td>Mega</td>\n",
       "      <td>54.732757</td>\n",
       "    </tr>\n",
       "    <tr>\n",
       "      <th>1</th>\n",
       "      <td>13.0</td>\n",
       "      <td>9.237765</td>\n",
       "      <td>2.409567</td>\n",
       "      <td>Mega</td>\n",
       "      <td>46.677897</td>\n",
       "    </tr>\n",
       "    <tr>\n",
       "      <th>2</th>\n",
       "      <td>41.0</td>\n",
       "      <td>15.886446</td>\n",
       "      <td>2.913410</td>\n",
       "      <td>Mega</td>\n",
       "      <td>150.177829</td>\n",
       "    </tr>\n",
       "    <tr>\n",
       "      <th>3</th>\n",
       "      <td>83.0</td>\n",
       "      <td>30.020028</td>\n",
       "      <td>6.922304</td>\n",
       "      <td>Mega</td>\n",
       "      <td>298.246340</td>\n",
       "    </tr>\n",
       "    <tr>\n",
       "      <th>4</th>\n",
       "      <td>15.0</td>\n",
       "      <td>8.437408</td>\n",
       "      <td>1.405998</td>\n",
       "      <td>Micro</td>\n",
       "      <td>56.594181</td>\n",
       "    </tr>\n",
       "  </tbody>\n",
       "</table>\n",
       "</div>"
      ],
      "text/plain": [
       "     TV      Radio  Social Media Influencer       Sales\n",
       "0  16.0   6.566231      2.907983       Mega   54.732757\n",
       "1  13.0   9.237765      2.409567       Mega   46.677897\n",
       "2  41.0  15.886446      2.913410       Mega  150.177829\n",
       "3  83.0  30.020028      6.922304       Mega  298.246340\n",
       "4  15.0   8.437408      1.405998      Micro   56.594181"
      ]
     },
     "execution_count": 41,
     "metadata": {},
     "output_type": "execute_result"
    }
   ],
   "source": [
    "sale2.head()"
   ]
  },
  {
   "cell_type": "code",
   "execution_count": 42,
   "id": "5ab7cc56",
   "metadata": {},
   "outputs": [],
   "source": [
    "from sklearn.preprocessing import MinMaxScaler\n",
    "scale=MinMaxScaler()\n",
    "normalizedvalue=scale.fit_transform(sale2[['Sales']])\n",
    "sale2['nor_Sales']=normalizedvalue"
   ]
  },
  {
   "cell_type": "code",
   "execution_count": 43,
   "id": "1e352cd7",
   "metadata": {},
   "outputs": [
    {
     "data": {
      "text/html": [
       "<div>\n",
       "<style scoped>\n",
       "    .dataframe tbody tr th:only-of-type {\n",
       "        vertical-align: middle;\n",
       "    }\n",
       "\n",
       "    .dataframe tbody tr th {\n",
       "        vertical-align: top;\n",
       "    }\n",
       "\n",
       "    .dataframe thead th {\n",
       "        text-align: right;\n",
       "    }\n",
       "</style>\n",
       "<table border=\"1\" class=\"dataframe\">\n",
       "  <thead>\n",
       "    <tr style=\"text-align: right;\">\n",
       "      <th></th>\n",
       "      <th>TV</th>\n",
       "      <th>Radio</th>\n",
       "      <th>Social Media</th>\n",
       "      <th>Influencer</th>\n",
       "      <th>Sales</th>\n",
       "      <th>nor_Sales</th>\n",
       "    </tr>\n",
       "  </thead>\n",
       "  <tbody>\n",
       "    <tr>\n",
       "      <th>0</th>\n",
       "      <td>16.0</td>\n",
       "      <td>6.566231</td>\n",
       "      <td>2.907983</td>\n",
       "      <td>Mega</td>\n",
       "      <td>54.732757</td>\n",
       "      <td>0.070696</td>\n",
       "    </tr>\n",
       "    <tr>\n",
       "      <th>1</th>\n",
       "      <td>13.0</td>\n",
       "      <td>9.237765</td>\n",
       "      <td>2.409567</td>\n",
       "      <td>Mega</td>\n",
       "      <td>46.677897</td>\n",
       "      <td>0.046499</td>\n",
       "    </tr>\n",
       "    <tr>\n",
       "      <th>2</th>\n",
       "      <td>41.0</td>\n",
       "      <td>15.886446</td>\n",
       "      <td>2.913410</td>\n",
       "      <td>Mega</td>\n",
       "      <td>150.177829</td>\n",
       "      <td>0.357421</td>\n",
       "    </tr>\n",
       "    <tr>\n",
       "      <th>3</th>\n",
       "      <td>83.0</td>\n",
       "      <td>30.020028</td>\n",
       "      <td>6.922304</td>\n",
       "      <td>Mega</td>\n",
       "      <td>298.246340</td>\n",
       "      <td>0.802231</td>\n",
       "    </tr>\n",
       "    <tr>\n",
       "      <th>4</th>\n",
       "      <td>15.0</td>\n",
       "      <td>8.437408</td>\n",
       "      <td>1.405998</td>\n",
       "      <td>Micro</td>\n",
       "      <td>56.594181</td>\n",
       "      <td>0.076288</td>\n",
       "    </tr>\n",
       "  </tbody>\n",
       "</table>\n",
       "</div>"
      ],
      "text/plain": [
       "     TV      Radio  Social Media Influencer       Sales  nor_Sales\n",
       "0  16.0   6.566231      2.907983       Mega   54.732757   0.070696\n",
       "1  13.0   9.237765      2.409567       Mega   46.677897   0.046499\n",
       "2  41.0  15.886446      2.913410       Mega  150.177829   0.357421\n",
       "3  83.0  30.020028      6.922304       Mega  298.246340   0.802231\n",
       "4  15.0   8.437408      1.405998      Micro   56.594181   0.076288"
      ]
     },
     "execution_count": 43,
     "metadata": {},
     "output_type": "execute_result"
    }
   ],
   "source": [
    "sale2.head()"
   ]
  },
  {
   "cell_type": "code",
   "execution_count": 44,
   "id": "ed3257bc",
   "metadata": {},
   "outputs": [
    {
     "data": {
      "image/png": "[encoded data removed]",
      "text/plain": [
       "<Figure size 640x480 with 1 Axes>"
      ]
     },
     "metadata": {},
     "output_type": "display_data"
    }
   ],
   "source": [
    "plt.boxplot(sale2['nor_Sales'])\n",
    "plt.ylabel('Sales')\n",
    "plt.title('Box Plot of Sales')\n",
    "plt.show()"
   ]
  },
  {
   "cell_type": "code",
   "execution_count": 45,
   "id": "f6f89d66",
   "metadata": {},
   "outputs": [
    {
     "data": {
      "image/png": "[encoded data removed]",
      "text/plain": [
       "<Figure size 640x480 with 1 Axes>"
      ]
     },
     "metadata": {},
     "output_type": "display_data"
    }
   ],
   "source": [
    "plt.boxplot(sale1_df['TV'])\n",
    "plt.ylabel('TV')\n",
    "plt.title('Box Plot of TV')\n",
    "plt.show()"
   ]
  },
  {
   "cell_type": "code",
   "execution_count": 46,
   "id": "d97e3cd0",
   "metadata": {},
   "outputs": [
    {
     "data": {
      "image/png": "[encoded data removed]",
      "text/plain": [
       "<Figure size 640x480 with 1 Axes>"
      ]
     },
     "metadata": {},
     "output_type": "display_data"
    }
   ],
   "source": [
    "plt.boxplot(sale_df['Radio'])\n",
    "plt.ylabel('Radio')\n",
    "plt.title('Box Plot of Radio')\n",
    "plt.show()"
   ]
  },
  {
   "cell_type": "code",
   "execution_count": 47,
   "id": "f47a91d3",
   "metadata": {},
   "outputs": [
    {
     "data": {
      "image/png": "[encoded data removed]",
      "text/plain": [
       "<Figure size 640x480 with 1 Axes>"
      ]
     },
     "metadata": {},
     "output_type": "display_data"
    }
   ],
   "source": [
    "plt.boxplot(sale_df['Social Media'])\n",
    "plt.ylabel('Social Media')\n",
    "plt.title('Box Plot of Social Media')\n",
    "plt.show()"
   ]
  },
  {
   "cell_type": "code",
   "execution_count": 48,
   "id": "c59aa974",
   "metadata": {},
   "outputs": [],
   "source": [
    "from sklearn.preprocessing import MinMaxScaler\n",
    "scale=MinMaxScaler()\n",
    "normalizedvalue=scale.fit_transform(sale2[['TV']])\n",
    "sale2['nor_TV']=normalizedvalue"
   ]
  },
  {
   "cell_type": "code",
   "execution_count": 49,
   "id": "3951f101",
   "metadata": {},
   "outputs": [],
   "source": [
    "scale=MinMaxScaler()\n",
    "normalizedvalue=scale.fit_transform(sale2[['Radio']])\n",
    "sale2['nor_radio']=normalizedvalue"
   ]
  },
  {
   "cell_type": "code",
   "execution_count": 50,
   "id": "2ab57c2a",
   "metadata": {},
   "outputs": [],
   "source": [
    "scale=MinMaxScaler()\n",
    "normalizedvalue=scale.fit_transform(sale2[['Social Media']])\n",
    "sale2['nor_SocialMedia']=normalizedvalue"
   ]
  },
  {
   "cell_type": "code",
   "execution_count": 51,
   "id": "89990dc0",
   "metadata": {},
   "outputs": [
    {
     "data": {
      "text/html": [
       "<div>\n",
       "<style scoped>\n",
       "    .dataframe tbody tr th:only-of-type {\n",
       "        vertical-align: middle;\n",
       "    }\n",
       "\n",
       "    .dataframe tbody tr th {\n",
       "        vertical-align: top;\n",
       "    }\n",
       "\n",
       "    .dataframe thead th {\n",
       "        text-align: right;\n",
       "    }\n",
       "</style>\n",
       "<table border=\"1\" class=\"dataframe\">\n",
       "  <thead>\n",
       "    <tr style=\"text-align: right;\">\n",
       "      <th></th>\n",
       "      <th>TV</th>\n",
       "      <th>Radio</th>\n",
       "      <th>Social Media</th>\n",
       "      <th>Influencer</th>\n",
       "      <th>Sales</th>\n",
       "      <th>nor_Sales</th>\n",
       "      <th>nor_TV</th>\n",
       "      <th>nor_radio</th>\n",
       "      <th>nor_SocialMedia</th>\n",
       "    </tr>\n",
       "  </thead>\n",
       "  <tbody>\n",
       "    <tr>\n",
       "      <th>0</th>\n",
       "      <td>16.0</td>\n",
       "      <td>6.566231</td>\n",
       "      <td>2.907983</td>\n",
       "      <td>Mega</td>\n",
       "      <td>54.732757</td>\n",
       "      <td>0.070696</td>\n",
       "      <td>0.066667</td>\n",
       "      <td>0.123880</td>\n",
       "      <td>0.054867</td>\n",
       "    </tr>\n",
       "    <tr>\n",
       "      <th>1</th>\n",
       "      <td>13.0</td>\n",
       "      <td>9.237765</td>\n",
       "      <td>2.409567</td>\n",
       "      <td>Mega</td>\n",
       "      <td>46.677897</td>\n",
       "      <td>0.046499</td>\n",
       "      <td>0.033333</td>\n",
       "      <td>0.174287</td>\n",
       "      <td>0.045463</td>\n",
       "    </tr>\n",
       "    <tr>\n",
       "      <th>2</th>\n",
       "      <td>41.0</td>\n",
       "      <td>15.886446</td>\n",
       "      <td>2.913410</td>\n",
       "      <td>Mega</td>\n",
       "      <td>150.177829</td>\n",
       "      <td>0.357421</td>\n",
       "      <td>0.344444</td>\n",
       "      <td>0.299735</td>\n",
       "      <td>0.054969</td>\n",
       "    </tr>\n",
       "    <tr>\n",
       "      <th>3</th>\n",
       "      <td>83.0</td>\n",
       "      <td>30.020028</td>\n",
       "      <td>6.922304</td>\n",
       "      <td>Mega</td>\n",
       "      <td>298.246340</td>\n",
       "      <td>0.802231</td>\n",
       "      <td>0.811111</td>\n",
       "      <td>0.566410</td>\n",
       "      <td>0.130609</td>\n",
       "    </tr>\n",
       "    <tr>\n",
       "      <th>4</th>\n",
       "      <td>15.0</td>\n",
       "      <td>8.437408</td>\n",
       "      <td>1.405998</td>\n",
       "      <td>Micro</td>\n",
       "      <td>56.594181</td>\n",
       "      <td>0.076288</td>\n",
       "      <td>0.055556</td>\n",
       "      <td>0.159186</td>\n",
       "      <td>0.026528</td>\n",
       "    </tr>\n",
       "  </tbody>\n",
       "</table>\n",
       "</div>"
      ],
      "text/plain": [
       "     TV      Radio  Social Media Influencer       Sales  nor_Sales    nor_TV  \\\n",
       "0  16.0   6.566231      2.907983       Mega   54.732757   0.070696  0.066667   \n",
       "1  13.0   9.237765      2.409567       Mega   46.677897   0.046499  0.033333   \n",
       "2  41.0  15.886446      2.913410       Mega  150.177829   0.357421  0.344444   \n",
       "3  83.0  30.020028      6.922304       Mega  298.246340   0.802231  0.811111   \n",
       "4  15.0   8.437408      1.405998      Micro   56.594181   0.076288  0.055556   \n",
       "\n",
       "   nor_radio  nor_SocialMedia  \n",
       "0   0.123880         0.054867  \n",
       "1   0.174287         0.045463  \n",
       "2   0.299735         0.054969  \n",
       "3   0.566410         0.130609  \n",
       "4   0.159186         0.026528  "
      ]
     },
     "execution_count": 51,
     "metadata": {},
     "output_type": "execute_result"
    }
   ],
   "source": [
    "sale2.head()"
   ]
  },
  {
   "cell_type": "code",
   "execution_count": 53,
   "id": "8b7c04ba",
   "metadata": {},
   "outputs": [
    {
     "data": {
      "text/html": [
       "<div>\n",
       "<style scoped>\n",
       "    .dataframe tbody tr th:only-of-type {\n",
       "        vertical-align: middle;\n",
       "    }\n",
       "\n",
       "    .dataframe tbody tr th {\n",
       "        vertical-align: top;\n",
       "    }\n",
       "\n",
       "    .dataframe thead th {\n",
       "        text-align: right;\n",
       "    }\n",
       "</style>\n",
       "<table border=\"1\" class=\"dataframe\">\n",
       "  <thead>\n",
       "    <tr style=\"text-align: right;\">\n",
       "      <th></th>\n",
       "      <th>TV</th>\n",
       "      <th>Radio</th>\n",
       "      <th>Social Media</th>\n",
       "      <th>Influencer</th>\n",
       "      <th>Sales</th>\n",
       "      <th>nor_Sales</th>\n",
       "      <th>nor_radio</th>\n",
       "      <th>nor_SocialMedia</th>\n",
       "    </tr>\n",
       "  </thead>\n",
       "  <tbody>\n",
       "    <tr>\n",
       "      <th>0</th>\n",
       "      <td>16.0</td>\n",
       "      <td>6.566231</td>\n",
       "      <td>2.907983</td>\n",
       "      <td>Mega</td>\n",
       "      <td>54.732757</td>\n",
       "      <td>0.070696</td>\n",
       "      <td>0.123880</td>\n",
       "      <td>0.054867</td>\n",
       "    </tr>\n",
       "    <tr>\n",
       "      <th>1</th>\n",
       "      <td>13.0</td>\n",
       "      <td>9.237765</td>\n",
       "      <td>2.409567</td>\n",
       "      <td>Mega</td>\n",
       "      <td>46.677897</td>\n",
       "      <td>0.046499</td>\n",
       "      <td>0.174287</td>\n",
       "      <td>0.045463</td>\n",
       "    </tr>\n",
       "    <tr>\n",
       "      <th>2</th>\n",
       "      <td>41.0</td>\n",
       "      <td>15.886446</td>\n",
       "      <td>2.913410</td>\n",
       "      <td>Mega</td>\n",
       "      <td>150.177829</td>\n",
       "      <td>0.357421</td>\n",
       "      <td>0.299735</td>\n",
       "      <td>0.054969</td>\n",
       "    </tr>\n",
       "    <tr>\n",
       "      <th>3</th>\n",
       "      <td>83.0</td>\n",
       "      <td>30.020028</td>\n",
       "      <td>6.922304</td>\n",
       "      <td>Mega</td>\n",
       "      <td>298.246340</td>\n",
       "      <td>0.802231</td>\n",
       "      <td>0.566410</td>\n",
       "      <td>0.130609</td>\n",
       "    </tr>\n",
       "    <tr>\n",
       "      <th>4</th>\n",
       "      <td>15.0</td>\n",
       "      <td>8.437408</td>\n",
       "      <td>1.405998</td>\n",
       "      <td>Micro</td>\n",
       "      <td>56.594181</td>\n",
       "      <td>0.076288</td>\n",
       "      <td>0.159186</td>\n",
       "      <td>0.026528</td>\n",
       "    </tr>\n",
       "  </tbody>\n",
       "</table>\n",
       "</div>"
      ],
      "text/plain": [
       "     TV      Radio  Social Media Influencer       Sales  nor_Sales  nor_radio  \\\n",
       "0  16.0   6.566231      2.907983       Mega   54.732757   0.070696   0.123880   \n",
       "1  13.0   9.237765      2.409567       Mega   46.677897   0.046499   0.174287   \n",
       "2  41.0  15.886446      2.913410       Mega  150.177829   0.357421   0.299735   \n",
       "3  83.0  30.020028      6.922304       Mega  298.246340   0.802231   0.566410   \n",
       "4  15.0   8.437408      1.405998      Micro   56.594181   0.076288   0.159186   \n",
       "\n",
       "   nor_SocialMedia  \n",
       "0         0.054867  \n",
       "1         0.045463  \n",
       "2         0.054969  \n",
       "3         0.130609  \n",
       "4         0.026528  "
      ]
     },
     "execution_count": 53,
     "metadata": {},
     "output_type": "execute_result"
    }
   ],
   "source": [
    "sale2.head()"
   ]
  },
  {
   "cell_type": "code",
   "execution_count": 55,
   "id": "4238c943",
   "metadata": {},
   "outputs": [
    {
     "data": {
      "image/png": "[encoded data removed]",
      "text/plain": [
       "<Figure size 640x480 with 1 Axes>"
      ]
     },
     "metadata": {},
     "output_type": "display_data"
    }
   ],
   "source": [
    "plt.boxplot(sale2['nor_radio'])\n",
    "plt.ylabel('Sales')\n",
    "plt.title('Box Plot of Radio')\n",
    "plt.show()"
   ]
  },
  {
   "cell_type": "code",
   "execution_count": 56,
   "id": "9541258c",
   "metadata": {},
   "outputs": [
    {
     "data": {
      "image/png": "[encoded data removed]",
      "text/plain": [
       "<Figure size 640x480 with 1 Axes>"
      ]
     },
     "metadata": {},
     "output_type": "display_data"
    }
   ],
   "source": [
    "plt.boxplot(sale2['nor_SocialMedia'])\n",
    "plt.ylabel('Sales')\n",
    "plt.title('Box Plot of SocialMedia')\n",
    "plt.show()"
   ]
  },
  {
   "cell_type": "code",
   "execution_count": 57,
   "id": "8361e46a",
   "metadata": {},
   "outputs": [
    {
     "data": {
      "text/html": [
       "<div>\n",
       "<style scoped>\n",
       "    .dataframe tbody tr th:only-of-type {\n",
       "        vertical-align: middle;\n",
       "    }\n",
       "\n",
       "    .dataframe tbody tr th {\n",
       "        vertical-align: top;\n",
       "    }\n",
       "\n",
       "    .dataframe thead th {\n",
       "        text-align: right;\n",
       "    }\n",
       "</style>\n",
       "<table border=\"1\" class=\"dataframe\">\n",
       "  <thead>\n",
       "    <tr style=\"text-align: right;\">\n",
       "      <th></th>\n",
       "      <th>TV</th>\n",
       "      <th>Radio</th>\n",
       "      <th>Social Media</th>\n",
       "      <th>Sales</th>\n",
       "    </tr>\n",
       "  </thead>\n",
       "  <tbody>\n",
       "    <tr>\n",
       "      <th>TV</th>\n",
       "      <td>1.000000</td>\n",
       "      <td>0.862133</td>\n",
       "      <td>0.411545</td>\n",
       "      <td>0.99524</td>\n",
       "    </tr>\n",
       "    <tr>\n",
       "      <th>Radio</th>\n",
       "      <td>0.862133</td>\n",
       "      <td>1.000000</td>\n",
       "      <td>0.468333</td>\n",
       "      <td>0.86160</td>\n",
       "    </tr>\n",
       "    <tr>\n",
       "      <th>Social Media</th>\n",
       "      <td>0.411545</td>\n",
       "      <td>0.468333</td>\n",
       "      <td>1.000000</td>\n",
       "      <td>0.41243</td>\n",
       "    </tr>\n",
       "    <tr>\n",
       "      <th>Sales</th>\n",
       "      <td>0.995240</td>\n",
       "      <td>0.861600</td>\n",
       "      <td>0.412430</td>\n",
       "      <td>1.00000</td>\n",
       "    </tr>\n",
       "  </tbody>\n",
       "</table>\n",
       "</div>"
      ],
      "text/plain": [
       "                    TV     Radio  Social Media    Sales\n",
       "TV            1.000000  0.862133      0.411545  0.99524\n",
       "Radio         0.862133  1.000000      0.468333  0.86160\n",
       "Social Media  0.411545  0.468333      1.000000  0.41243\n",
       "Sales         0.995240  0.861600      0.412430  1.00000"
      ]
     },
     "execution_count": 57,
     "metadata": {},
     "output_type": "execute_result"
    }
   ],
   "source": [
    "sale1_df.corr()"
   ]
  },
  {
   "cell_type": "code",
   "execution_count": 58,
   "id": "338b8fa0",
   "metadata": {},
   "outputs": [],
   "source": [
    "from sklearn.preprocessing import LabelEncoder\n",
    "le=LabelEncoder()\n",
    "sale1_df['Influencer']=le.fit_transform(sale1_df['Influencer'])"
   ]
  },
  {
   "cell_type": "code",
   "execution_count": 59,
   "id": "d279f604",
   "metadata": {},
   "outputs": [
    {
     "data": {
      "text/html": [
       "<div>\n",
       "<style scoped>\n",
       "    .dataframe tbody tr th:only-of-type {\n",
       "        vertical-align: middle;\n",
       "    }\n",
       "\n",
       "    .dataframe tbody tr th {\n",
       "        vertical-align: top;\n",
       "    }\n",
       "\n",
       "    .dataframe thead th {\n",
       "        text-align: right;\n",
       "    }\n",
       "</style>\n",
       "<table border=\"1\" class=\"dataframe\">\n",
       "  <thead>\n",
       "    <tr style=\"text-align: right;\">\n",
       "      <th></th>\n",
       "      <th>TV</th>\n",
       "      <th>Radio</th>\n",
       "      <th>Social Media</th>\n",
       "      <th>Influencer</th>\n",
       "      <th>Sales</th>\n",
       "    </tr>\n",
       "  </thead>\n",
       "  <tbody>\n",
       "    <tr>\n",
       "      <th>0</th>\n",
       "      <td>16.0</td>\n",
       "      <td>6.566231</td>\n",
       "      <td>2.907983</td>\n",
       "      <td>1</td>\n",
       "      <td>54.732757</td>\n",
       "    </tr>\n",
       "    <tr>\n",
       "      <th>1</th>\n",
       "      <td>13.0</td>\n",
       "      <td>9.237765</td>\n",
       "      <td>2.409567</td>\n",
       "      <td>1</td>\n",
       "      <td>46.677897</td>\n",
       "    </tr>\n",
       "    <tr>\n",
       "      <th>2</th>\n",
       "      <td>41.0</td>\n",
       "      <td>15.886446</td>\n",
       "      <td>2.913410</td>\n",
       "      <td>1</td>\n",
       "      <td>150.177829</td>\n",
       "    </tr>\n",
       "    <tr>\n",
       "      <th>3</th>\n",
       "      <td>83.0</td>\n",
       "      <td>30.020028</td>\n",
       "      <td>6.922304</td>\n",
       "      <td>1</td>\n",
       "      <td>298.246340</td>\n",
       "    </tr>\n",
       "    <tr>\n",
       "      <th>4</th>\n",
       "      <td>15.0</td>\n",
       "      <td>8.437408</td>\n",
       "      <td>1.405998</td>\n",
       "      <td>2</td>\n",
       "      <td>56.594181</td>\n",
       "    </tr>\n",
       "  </tbody>\n",
       "</table>\n",
       "</div>"
      ],
      "text/plain": [
       "     TV      Radio  Social Media  Influencer       Sales\n",
       "0  16.0   6.566231      2.907983           1   54.732757\n",
       "1  13.0   9.237765      2.409567           1   46.677897\n",
       "2  41.0  15.886446      2.913410           1  150.177829\n",
       "3  83.0  30.020028      6.922304           1  298.246340\n",
       "4  15.0   8.437408      1.405998           2   56.594181"
      ]
     },
     "execution_count": 59,
     "metadata": {},
     "output_type": "execute_result"
    }
   ],
   "source": [
    "sale1_df.head()"
   ]
  },
  {
   "cell_type": "code",
   "execution_count": 60,
   "id": "72b48111",
   "metadata": {},
   "outputs": [
    {
     "data": {
      "text/html": [
       "<div>\n",
       "<style scoped>\n",
       "    .dataframe tbody tr th:only-of-type {\n",
       "        vertical-align: middle;\n",
       "    }\n",
       "\n",
       "    .dataframe tbody tr th {\n",
       "        vertical-align: top;\n",
       "    }\n",
       "\n",
       "    .dataframe thead th {\n",
       "        text-align: right;\n",
       "    }\n",
       "</style>\n",
       "<table border=\"1\" class=\"dataframe\">\n",
       "  <thead>\n",
       "    <tr style=\"text-align: right;\">\n",
       "      <th></th>\n",
       "      <th>TV</th>\n",
       "      <th>Radio</th>\n",
       "      <th>Social Media</th>\n",
       "      <th>Influencer</th>\n",
       "      <th>Sales</th>\n",
       "    </tr>\n",
       "  </thead>\n",
       "  <tbody>\n",
       "    <tr>\n",
       "      <th>TV</th>\n",
       "      <td>1.000000</td>\n",
       "      <td>0.862133</td>\n",
       "      <td>0.411545</td>\n",
       "      <td>-0.012930</td>\n",
       "      <td>0.995240</td>\n",
       "    </tr>\n",
       "    <tr>\n",
       "      <th>Radio</th>\n",
       "      <td>0.862133</td>\n",
       "      <td>1.000000</td>\n",
       "      <td>0.468333</td>\n",
       "      <td>-0.007981</td>\n",
       "      <td>0.861600</td>\n",
       "    </tr>\n",
       "    <tr>\n",
       "      <th>Social Media</th>\n",
       "      <td>0.411545</td>\n",
       "      <td>0.468333</td>\n",
       "      <td>1.000000</td>\n",
       "      <td>-0.028164</td>\n",
       "      <td>0.412430</td>\n",
       "    </tr>\n",
       "    <tr>\n",
       "      <th>Influencer</th>\n",
       "      <td>-0.012930</td>\n",
       "      <td>-0.007981</td>\n",
       "      <td>-0.028164</td>\n",
       "      <td>1.000000</td>\n",
       "      <td>-0.011872</td>\n",
       "    </tr>\n",
       "    <tr>\n",
       "      <th>Sales</th>\n",
       "      <td>0.995240</td>\n",
       "      <td>0.861600</td>\n",
       "      <td>0.412430</td>\n",
       "      <td>-0.011872</td>\n",
       "      <td>1.000000</td>\n",
       "    </tr>\n",
       "  </tbody>\n",
       "</table>\n",
       "</div>"
      ],
      "text/plain": [
       "                    TV     Radio  Social Media  Influencer     Sales\n",
       "TV            1.000000  0.862133      0.411545   -0.012930  0.995240\n",
       "Radio         0.862133  1.000000      0.468333   -0.007981  0.861600\n",
       "Social Media  0.411545  0.468333      1.000000   -0.028164  0.412430\n",
       "Influencer   -0.012930 -0.007981     -0.028164    1.000000 -0.011872\n",
       "Sales         0.995240  0.861600      0.412430   -0.011872  1.000000"
      ]
     },
     "execution_count": 60,
     "metadata": {},
     "output_type": "execute_result"
    }
   ],
   "source": [
    "sale1_df.corr()"
   ]
  },
  {
   "cell_type": "code",
   "execution_count": 61,
   "id": "2c502122",
   "metadata": {},
   "outputs": [
    {
     "data": {
      "text/plain": [
       "<AxesSubplot:xlabel='TV', ylabel='Sales'>"
      ]
     },
     "execution_count": 61,
     "metadata": {},
     "output_type": "execute_result"
    },
    {
     "data": {
      "image/png": "[encoded data removed]",
      "text/plain": [
       "<Figure size 640x480 with 1 Axes>"
      ]
     },
     "metadata": {},
     "output_type": "display_data"
    }
   ],
   "source": [
    "sns.regplot(y='Sales',x='TV',data=sale1_df)"
   ]
  },
  {
   "cell_type": "code",
   "execution_count": 62,
   "id": "d711ee25",
   "metadata": {},
   "outputs": [
    {
     "data": {
      "text/plain": [
       "<AxesSubplot:xlabel='Radio', ylabel='Sales'>"
      ]
     },
     "execution_count": 62,
     "metadata": {},
     "output_type": "execute_result"
    },
    {
     "data": {
      "image/png": "[encoded data removed]",
      "text/plain": [
       "<Figure size 640x480 with 1 Axes>"
      ]
     },
     "metadata": {},
     "output_type": "display_data"
    }
   ],
   "source": [
    "sns.regplot(y='Sales',x='Radio',data=sale1_df)"
   ]
  },
  {
   "cell_type": "code",
   "execution_count": 63,
   "id": "e20fed79",
   "metadata": {},
   "outputs": [
    {
     "data": {
      "text/plain": [
       "<AxesSubplot:xlabel='Social Media', ylabel='Sales'>"
      ]
     },
     "execution_count": 63,
     "metadata": {},
     "output_type": "execute_result"
    },
    {
     "data": {
      "image/png": "[encoded data removed]",
      "text/plain": [
       "<Figure size 640x480 with 1 Axes>"
      ]
     },
     "metadata": {},
     "output_type": "display_data"
    }
   ],
   "source": [
    "sns.regplot(y='Sales',x='Social Media',data=sale1_df)"
   ]
  },
  {
   "cell_type": "code",
   "execution_count": null,
   "id": "0b995796",
   "metadata": {},
   "outputs": [],
   "source": []
  }
 ],
 "metadata": {
  "kernelspec": {
   "display_name": "Python 3 (ipykernel)",
   "language": "python",
   "name": "python3"
  },
  "language_info": {
   "codemirror_mode": {
    "name": "ipython",
    "version": 3
   },
   "file_extension": ".py",
   "mimetype": "text/x-python",
   "name": "python",
   "nbconvert_exporter": "python",
   "pygments_lexer": "ipython3",
   "version": "3.9.13"
  }
 },
 "nbformat": 4,
 "nbformat_minor": 5
}
